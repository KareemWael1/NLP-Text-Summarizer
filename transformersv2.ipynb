{
	"cells": [
		{
			"cell_type": "code",
			"execution_count": 1,
			"metadata": {
				"execution": {
					"iopub.execute_input": "2024-09-05T17:08:12.548182Z",
					"iopub.status.busy": "2024-09-05T17:08:12.547394Z",
					"iopub.status.idle": "2024-09-05T17:08:42.230012Z",
					"shell.execute_reply": "2024-09-05T17:08:42.228885Z",
					"shell.execute_reply.started": "2024-09-05T17:08:12.548145Z"
				},
				"trusted": true
			},
			"outputs": [
				{
					"name": "stdout",
					"output_type": "stream",
					"text": [
						"Requirement already satisfied: sentencepiece in c:\\users\\ahmed\\anaconda3\\envs\\text_summarizer\\lib\\site-packages (0.2.0)\n",
						"Requirement already satisfied: rouge_score in c:\\users\\ahmed\\anaconda3\\envs\\text_summarizer\\lib\\site-packages (0.1.2)\n",
						"Requirement already satisfied: absl-py in c:\\users\\ahmed\\anaconda3\\envs\\text_summarizer\\lib\\site-packages (from rouge_score) (2.1.0)\n",
						"Requirement already satisfied: nltk in c:\\users\\ahmed\\anaconda3\\envs\\text_summarizer\\lib\\site-packages (from rouge_score) (3.9.1)\n",
						"Requirement already satisfied: numpy in c:\\users\\ahmed\\anaconda3\\envs\\text_summarizer\\lib\\site-packages (from rouge_score) (1.26.4)\n",
						"Requirement already satisfied: six>=1.14.0 in c:\\users\\ahmed\\anaconda3\\envs\\text_summarizer\\lib\\site-packages (from rouge_score) (1.16.0)\n",
						"Requirement already satisfied: click in c:\\users\\ahmed\\anaconda3\\envs\\text_summarizer\\lib\\site-packages (from nltk->rouge_score) (8.1.7)\n",
						"Requirement already satisfied: joblib in c:\\users\\ahmed\\anaconda3\\envs\\text_summarizer\\lib\\site-packages (from nltk->rouge_score) (1.1.1)\n",
						"Requirement already satisfied: regex>=2021.8.3 in c:\\users\\ahmed\\anaconda3\\envs\\text_summarizer\\lib\\site-packages (from nltk->rouge_score) (2024.7.24)\n",
						"Requirement already satisfied: tqdm in c:\\users\\ahmed\\anaconda3\\envs\\text_summarizer\\lib\\site-packages (from nltk->rouge_score) (4.66.5)\n",
						"Requirement already satisfied: colorama in c:\\users\\ahmed\\anaconda3\\envs\\text_summarizer\\lib\\site-packages (from click->nltk->rouge_score) (0.4.6)\n"
					]
				}
			],
			"source": [
				"! pip install sentencepiece\n",
				"! pip install rouge_score"
			]
		},
		{
			"cell_type": "code",
			"execution_count": 2,
			"metadata": {
				"_cell_guid": "b1076dfc-b9ad-4769-8c92-a6c4dae69d19",
				"_uuid": "8f2839f25d086af736a60e9eeb907d3b93b6e0e5",
				"execution": {
					"iopub.execute_input": "2024-09-05T17:08:42.232263Z",
					"iopub.status.busy": "2024-09-05T17:08:42.231931Z",
					"iopub.status.idle": "2024-09-05T17:09:02.513047Z",
					"shell.execute_reply": "2024-09-05T17:09:02.512202Z",
					"shell.execute_reply.started": "2024-09-05T17:08:42.232228Z"
				},
				"trusted": true
			},
			"outputs": [],
			"source": [
				"import torch\n",
				"import numpy as np\n",
				"import datasets\n",
				"\n",
				"from transformers import (\n",
				"    AutoModelForSeq2SeqLM,\n",
				"    AutoTokenizer,\n",
				"    Seq2SeqTrainingArguments,\n",
				"    Seq2SeqTrainer,\n",
				"    DataCollatorForSeq2Seq,\n",
				"    EarlyStoppingCallback\n",
				")\n",
				"\n",
				"# from tabulate import tabulate\n",
				"import nltk\n",
				"from datetime import datetime\n",
				"import os"
			]
		},
		{
			"cell_type": "code",
			"execution_count": 3,
			"metadata": {},
			"outputs": [
				{
					"name": "stdout",
					"output_type": "stream",
					"text": [
						"Using device: cuda\n"
					]
				}
			],
			"source": [
				"device = torch.device(\"cuda\" if torch.cuda.is_available() else \"cpu\")\n",
				"print(f\"Using device: {device}\")"
			]
		},
		{
			"cell_type": "code",
			"execution_count": 4,
			"metadata": {
				"execution": {
					"iopub.execute_input": "2024-09-05T17:09:02.514846Z",
					"iopub.status.busy": "2024-09-05T17:09:02.514215Z",
					"iopub.status.idle": "2024-09-05T17:09:02.519471Z",
					"shell.execute_reply": "2024-09-05T17:09:02.518454Z",
					"shell.execute_reply.started": "2024-09-05T17:09:02.514809Z"
				},
				"trusted": true
			},
			"outputs": [],
			"source": [
				"os.environ[\"trust_remote_code\"] = \"True\""
			]
		},
		{
			"cell_type": "code",
			"execution_count": 5,
			"metadata": {
				"execution": {
					"iopub.execute_input": "2024-09-05T17:09:02.521811Z",
					"iopub.status.busy": "2024-09-05T17:09:02.521512Z",
					"iopub.status.idle": "2024-09-05T17:10:20.889371Z",
					"shell.execute_reply": "2024-09-05T17:10:20.888368Z",
					"shell.execute_reply.started": "2024-09-05T17:09:02.521779Z"
				},
				"trusted": true
			},
			"outputs": [
				{
					"name": "stderr",
					"output_type": "stream",
					"text": [
						"Failed to detect the name of this notebook, you can set it manually with the WANDB_NOTEBOOK_NAME environment variable to enable code saving.\n",
						"wandb: Currently logged in as: ahmed-sakr79 (ahmed-sakr79-asu). Use `wandb login --relogin` to force relogin\n"
					]
				}
			],
			"source": [
				"WANDB_INTEGRATION = True\n",
				"if WANDB_INTEGRATION:\n",
				"    import wandb\n",
				"\n",
				"    wandb.login()"
			]
		},
		{
			"cell_type": "code",
			"execution_count": 6,
			"metadata": {
				"execution": {
					"iopub.execute_input": "2024-09-05T13:01:50.856823Z",
					"iopub.status.busy": "2024-09-05T13:01:50.856077Z",
					"iopub.status.idle": "2024-09-05T13:01:50.861513Z",
					"shell.execute_reply": "2024-09-05T13:01:50.860283Z",
					"shell.execute_reply.started": "2024-09-05T13:01:50.856784Z"
				},
				"trusted": true
			},
			"outputs": [],
			"source": [
				"# models = {\n",
				"#     \"bart-small\": \"facebook/bart-base\",  # BART small equivalent\n",
				"#     \"t5-small\": \"t5-small\",               # T5 small\n",
				"#     \"pegasus-small\": \"google/pegasus-xsum\" # Pegasus small equivalent\n",
				"# }"
			]
		},
		{
			"cell_type": "code",
			"execution_count": 6,
			"metadata": {
				"execution": {
					"iopub.execute_input": "2024-09-05T17:11:32.757683Z",
					"iopub.status.busy": "2024-09-05T17:11:32.757330Z",
					"iopub.status.idle": "2024-09-05T17:12:12.571896Z",
					"shell.execute_reply": "2024-09-05T17:12:12.570755Z",
					"shell.execute_reply.started": "2024-09-05T17:11:32.757645Z"
				},
				"trusted": true
			},
			"outputs": [],
			"source": [
				"model_name = \"pegasus-small\"\n",
				"model = AutoModelForSeq2SeqLM.from_pretrained(model_name)\n",
				"tokenizer = AutoTokenizer.from_pretrained(model_name)"
			]
		},
		{
			"cell_type": "code",
			"execution_count": 7,
			"metadata": {
				"execution": {
					"iopub.execute_input": "2024-09-05T17:12:12.575072Z",
					"iopub.status.busy": "2024-09-05T17:12:12.574231Z",
					"iopub.status.idle": "2024-09-05T17:12:12.579319Z",
					"shell.execute_reply": "2024-09-05T17:12:12.578396Z",
					"shell.execute_reply.started": "2024-09-05T17:12:12.575023Z"
				},
				"trusted": true
			},
			"outputs": [],
			"source": [
				"encoder_max_length = 512  \n",
				"decoder_max_length = 128"
			]
		},
		{
			"cell_type": "code",
			"execution_count": 8,
			"metadata": {
				"execution": {
					"iopub.execute_input": "2024-09-05T17:31:57.527128Z",
					"iopub.status.busy": "2024-09-05T17:31:57.526690Z",
					"iopub.status.idle": "2024-09-05T17:32:03.442816Z",
					"shell.execute_reply": "2024-09-05T17:32:03.441754Z",
					"shell.execute_reply.started": "2024-09-05T17:31:57.527090Z"
				},
				"trusted": true
			},
			"outputs": [],
			"source": [
				"data = datasets.load_dataset(\"cnn_dailymail\", \"3.0.0\", split=\"train[:100000]\")"
			]
		},
		{
			"cell_type": "code",
			"execution_count": 9,
			"metadata": {
				"execution": {
					"iopub.execute_input": "2024-09-05T17:32:03.444933Z",
					"iopub.status.busy": "2024-09-05T17:32:03.444603Z",
					"iopub.status.idle": "2024-09-05T17:32:03.452777Z",
					"shell.execute_reply": "2024-09-05T17:32:03.450580Z",
					"shell.execute_reply.started": "2024-09-05T17:32:03.444898Z"
				},
				"trusted": true
			},
			"outputs": [],
			"source": [
				"def flatten(example):\n",
				"    return {\n",
				"        \"document\": example[\"article\"],\n",
				"        \"summary\": example[\"highlights\"],\n",
				"    }\n",
				"\n",
				"def listToSamples(example):\n",
				"    result = {\"document\": example[\"document\"], \"summary\": example[\"summary\"]}\n",
				"    return result"
			]
		},
		{
			"cell_type": "code",
			"execution_count": 10,
			"metadata": {
				"execution": {
					"iopub.execute_input": "2024-09-05T17:32:03.454883Z",
					"iopub.status.busy": "2024-09-05T17:32:03.454147Z",
					"iopub.status.idle": "2024-09-05T17:32:10.549845Z",
					"shell.execute_reply": "2024-09-05T17:32:10.548655Z",
					"shell.execute_reply.started": "2024-09-05T17:32:03.454840Z"
				},
				"trusted": true
			},
			"outputs": [],
			"source": [
				"dataset = data.map(flatten)"
			]
		},
		{
			"cell_type": "code",
			"execution_count": 11,
			"metadata": {
				"execution": {
					"iopub.execute_input": "2024-09-05T17:32:10.552926Z",
					"iopub.status.busy": "2024-09-05T17:32:10.552526Z",
					"iopub.status.idle": "2024-09-05T17:32:19.145063Z",
					"shell.execute_reply": "2024-09-05T17:32:19.144137Z",
					"shell.execute_reply.started": "2024-09-05T17:32:10.552877Z"
				},
				"trusted": true
			},
			"outputs": [],
			"source": [
				"dataset = dataset.map(listToSamples)"
			]
		},
		{
			"cell_type": "code",
			"execution_count": 12,
			"metadata": {
				"execution": {
					"iopub.execute_input": "2024-09-05T17:32:19.147168Z",
					"iopub.status.busy": "2024-09-05T17:32:19.146257Z",
					"iopub.status.idle": "2024-09-05T17:32:21.403725Z",
					"shell.execute_reply": "2024-09-05T17:32:21.402604Z",
					"shell.execute_reply.started": "2024-09-05T17:32:19.147121Z"
				},
				"trusted": true
			},
			"outputs": [],
			"source": [
				"train_data_txt, validation_data_txt = dataset.train_test_split(test_size=0.3).values()"
			]
		},
		{
			"cell_type": "code",
			"execution_count": 13,
			"metadata": {
				"execution": {
					"iopub.execute_input": "2024-09-05T17:32:21.406072Z",
					"iopub.status.busy": "2024-09-05T17:32:21.405608Z",
					"iopub.status.idle": "2024-09-05T17:32:21.414711Z",
					"shell.execute_reply": "2024-09-05T17:32:21.413542Z",
					"shell.execute_reply.started": "2024-09-05T17:32:21.406017Z"
				},
				"trusted": true
			},
			"outputs": [],
			"source": [
				"def preprocess(batch, tokenizer, max_source_length, max_target_length):\n",
				"    source, target = batch[\"document\"], batch[\"summary\"]\n",
				"    source_tokenized = tokenizer(\n",
				"        source, padding=\"max_length\", truncation=True, max_length=max_source_length\n",
				"    )\n",
				"    target_tokenized = tokenizer(\n",
				"        target, padding=\"max_length\", truncation=True, max_length=max_target_length\n",
				"    )\n",
				"\n",
				"    batch = {k: v for k, v in source_tokenized.items()}\n",
				"    # Ignore padding in the loss\n",
				"    batch[\"labels\"] = [\n",
				"        [-100 if token == tokenizer.pad_token_id else token for token in l]\n",
				"        for l in target_tokenized[\"input_ids\"]\n",
				"    ]\n",
				"    return batch"
			]
		},
		{
			"cell_type": "code",
			"execution_count": 14,
			"metadata": {
				"execution": {
					"iopub.execute_input": "2024-09-05T17:32:21.416515Z",
					"iopub.status.busy": "2024-09-05T17:32:21.416092Z",
					"iopub.status.idle": "2024-09-05T17:33:36.027698Z",
					"shell.execute_reply": "2024-09-05T17:33:36.026664Z",
					"shell.execute_reply.started": "2024-09-05T17:32:21.416470Z"
				},
				"trusted": true
			},
			"outputs": [
				{
					"data": {
						"application/vnd.jupyter.widget-view+json": {
							"model_id": "334d65cb31374212bb1d9a6dd0b742ee",
							"version_major": 2,
							"version_minor": 0
						},
						"text/plain": [
							"Map:   0%|          | 0/70000 [00:00<?, ? examples/s]"
						]
					},
					"metadata": {},
					"output_type": "display_data"
				}
			],
			"source": [
				"train_data = train_data_txt.map(\n",
				"    lambda batch: preprocess(\n",
				"        batch, tokenizer, encoder_max_length, decoder_max_length\n",
				"    ),\n",
				"    batched=True,\n",
				"    remove_columns=train_data_txt.column_names,\n",
				")"
			]
		},
		{
			"cell_type": "code",
			"execution_count": 15,
			"metadata": {
				"execution": {
					"iopub.execute_input": "2024-09-05T17:33:36.029261Z",
					"iopub.status.busy": "2024-09-05T17:33:36.028933Z",
					"iopub.status.idle": "2024-09-05T17:34:07.557413Z",
					"shell.execute_reply": "2024-09-05T17:34:07.556188Z",
					"shell.execute_reply.started": "2024-09-05T17:33:36.029227Z"
				},
				"trusted": true
			},
			"outputs": [
				{
					"data": {
						"application/vnd.jupyter.widget-view+json": {
							"model_id": "ed21e472046c45b3805abd75129624e3",
							"version_major": 2,
							"version_minor": 0
						},
						"text/plain": [
							"Map:   0%|          | 0/30000 [00:00<?, ? examples/s]"
						]
					},
					"metadata": {},
					"output_type": "display_data"
				}
			],
			"source": [
				"validation_data = validation_data_txt.map(\n",
				"    lambda batch: preprocess(\n",
				"        batch, tokenizer, encoder_max_length, decoder_max_length\n",
				"    ),\n",
				"    batched=True,\n",
				"    remove_columns=validation_data_txt.column_names,\n",
				")"
			]
		},
		{
			"cell_type": "code",
			"execution_count": 16,
			"metadata": {
				"execution": {
					"iopub.execute_input": "2024-09-05T17:34:07.561547Z",
					"iopub.status.busy": "2024-09-05T17:34:07.561102Z",
					"iopub.status.idle": "2024-09-05T17:34:08.607890Z",
					"shell.execute_reply": "2024-09-05T17:34:08.606815Z",
					"shell.execute_reply.started": "2024-09-05T17:34:07.561493Z"
				},
				"trusted": true
			},
			"outputs": [
				{
					"name": "stderr",
					"output_type": "stream",
					"text": [
						"C:\\Users\\ahmed\\AppData\\Local\\Temp\\ipykernel_27036\\682270908.py:3: FutureWarning: load_metric is deprecated and will be removed in the next major version of datasets. Use 'evaluate.load' instead, from the new library 🤗 Evaluate: https://huggingface.co/docs/evaluate\n",
						"  metric = datasets.load_metric(\"rouge\")\n",
						"c:\\Users\\ahmed\\anaconda3\\envs\\text_summarizer\\Lib\\site-packages\\datasets\\load.py:759: FutureWarning: The repository for rouge contains custom code which must be executed to correctly load the metric. You can inspect the repository content at https://raw.githubusercontent.com/huggingface/datasets/2.19.1/metrics/rouge/rouge.py\n",
						"You can avoid this message in future by passing the argument `trust_remote_code=True`.\n",
						"Passing `trust_remote_code=True` will be mandatory to load this metric from the next major release of `datasets`.\n",
						"  warnings.warn(\n"
					]
				}
			],
			"source": [
				"nltk.download(\"punkt\", quiet=True)\n",
				"\n",
				"metric = datasets.load_metric(\"rouge\")\n",
				"\n",
				"\n",
				"def postprocess_text(preds, labels):\n",
				"    preds = [pred.strip() for pred in preds]\n",
				"    labels = [label.strip() for label in labels]\n",
				"\n",
				"    # rougeLSum expects newline after each sentence\n",
				"    preds = [\"\\n\".join(nltk.sent_tokenize(pred)) for pred in preds]\n",
				"    labels = [\"\\n\".join(nltk.sent_tokenize(label)) for label in labels]\n",
				"\n",
				"    return preds, labels"
			]
		},
		{
			"cell_type": "code",
			"execution_count": 17,
			"metadata": {
				"execution": {
					"iopub.execute_input": "2024-09-05T17:34:08.610632Z",
					"iopub.status.busy": "2024-09-05T17:34:08.609743Z",
					"iopub.status.idle": "2024-09-05T17:34:08.620022Z",
					"shell.execute_reply": "2024-09-05T17:34:08.619107Z",
					"shell.execute_reply.started": "2024-09-05T17:34:08.610579Z"
				},
				"trusted": true
			},
			"outputs": [],
			"source": [
				"def compute_metrics(eval_preds):\n",
				"    preds, labels = eval_preds\n",
				"    if isinstance(preds, tuple):\n",
				"        preds = preds[0]\n",
				"    decoded_preds = tokenizer.batch_decode(preds, skip_special_tokens=True)\n",
				"    # Replace -100 in the labels as we can't decode them.\n",
				"    labels = np.where(labels != -100, labels, tokenizer.pad_token_id)\n",
				"    decoded_labels = tokenizer.batch_decode(labels, skip_special_tokens=True)\n",
				"\n",
				"    # Some simple post-processing\n",
				"    decoded_preds, decoded_labels = postprocess_text(decoded_preds, decoded_labels)\n",
				"\n",
				"    result = metric.compute(\n",
				"        predictions=decoded_preds, references=decoded_labels, use_stemmer=True\n",
				"    )\n",
				"    # Extract a few results from ROUGE\n",
				"    result = {key: value.mid.fmeasure * 100 for key, value in result.items()}\n",
				"\n",
				"    prediction_lens = [\n",
				"        np.count_nonzero(pred != tokenizer.pad_token_id) for pred in preds\n",
				"    ]\n",
				"    result[\"gen_len\"] = np.mean(prediction_lens)\n",
				"    result = {k: round(v, 4) for k, v in result.items()}\n",
				"    return result"
			]
		},
		{
			"cell_type": "code",
			"execution_count": 26,
			"metadata": {
				"execution": {
					"iopub.execute_input": "2024-09-05T18:03:33.203099Z",
					"iopub.status.busy": "2024-09-05T18:03:33.202444Z",
					"iopub.status.idle": "2024-09-05T18:03:33.247935Z",
					"shell.execute_reply": "2024-09-05T18:03:33.246995Z",
					"shell.execute_reply.started": "2024-09-05T18:03:33.203057Z"
				},
				"trusted": true
			},
			"outputs": [],
			"source": [
				"training_args = Seq2SeqTrainingArguments(\n",
				"    output_dir=\"results\",\n",
				"    num_train_epochs=1,  \n",
				"    do_train=True,\n",
				"    do_eval=True,\n",
				"    per_device_train_batch_size=4,  # demo\n",
				"    per_device_eval_batch_size=4,\n",
				"    # learning_rate=3e-05,\n",
				"    warmup_steps=500,\n",
				"    weight_decay=0.1,\n",
				"    label_smoothing_factor=0.1,\n",
				"    predict_with_generate=True,\n",
				"    logging_dir=\"logs\",\n",
				"    logging_steps=50,\n",
				"    save_total_limit=3,\n",
				"    load_best_model_at_end=True,  # Load the best model at the end of training\n",
				"    # metric_for_best_model=\"eval_loss\",  # Use evaluation loss to determine the best model\n",
				"    # greater_is_better=False,  # Lower evaluation loss indicates a better model\n",
				"    evaluation_strategy=\"epoch\",  # Evaluate at the end of each epoch\n",
				"    save_strategy=\"epoch\",        # Save at the end of each epoch\n",
				")\n",
				"\n",
				"data_collator = DataCollatorForSeq2Seq(tokenizer, model=model)\n",
				"\n",
				"trainer = Seq2SeqTrainer(\n",
				"    model=model,\n",
				"    args=training_args,\n",
				"    data_collator=data_collator,\n",
				"    train_dataset=train_data,\n",
				"    eval_dataset=validation_data,\n",
				"    tokenizer=tokenizer,\n",
				"    compute_metrics=compute_metrics,\n",
				"    # callbacks=[EarlyStoppingCallback(early_stopping_patience=2)],\n",
				"\n",
				")"
			]
		},
		{
			"cell_type": "code",
			"execution_count": 19,
			"metadata": {
				"execution": {
					"iopub.execute_input": "2024-09-05T17:34:08.689694Z",
					"iopub.status.busy": "2024-09-05T17:34:08.687280Z",
					"iopub.status.idle": "2024-09-05T17:34:32.211933Z",
					"shell.execute_reply": "2024-09-05T17:34:32.211098Z",
					"shell.execute_reply.started": "2024-09-05T17:34:08.689638Z"
				},
				"trusted": true
			},
			"outputs": [
				{
					"data": {
						"text/html": [
							"Tracking run with wandb version 0.17.9"
						],
						"text/plain": [
							"<IPython.core.display.HTML object>"
						]
					},
					"metadata": {},
					"output_type": "display_data"
				},
				{
					"data": {
						"text/html": [
							"Run data is saved locally in <code>f:\\Harvard Abdo Basha\\4 - Senior 1\\SMR - 2024\\ST DS\\Text Summarizer\\wandb\\run-20240906_035701-53h41vg0</code>"
						],
						"text/plain": [
							"<IPython.core.display.HTML object>"
						]
					},
					"metadata": {},
					"output_type": "display_data"
				},
				{
					"data": {
						"text/html": [
							"Syncing run <strong><a href='https://wandb.ai/ahmed-sakr79-asu/text_summarizer/runs/53h41vg0' target=\"_blank\">ethereal-dragon-8</a></strong> to <a href='https://wandb.ai/ahmed-sakr79-asu/text_summarizer' target=\"_blank\">Weights & Biases</a> (<a href='https://wandb.me/run' target=\"_blank\">docs</a>)<br/>"
						],
						"text/plain": [
							"<IPython.core.display.HTML object>"
						]
					},
					"metadata": {},
					"output_type": "display_data"
				},
				{
					"data": {
						"text/html": [
							" View project at <a href='https://wandb.ai/ahmed-sakr79-asu/text_summarizer' target=\"_blank\">https://wandb.ai/ahmed-sakr79-asu/text_summarizer</a>"
						],
						"text/plain": [
							"<IPython.core.display.HTML object>"
						]
					},
					"metadata": {},
					"output_type": "display_data"
				},
				{
					"data": {
						"text/html": [
							" View run at <a href='https://wandb.ai/ahmed-sakr79-asu/text_summarizer/runs/53h41vg0' target=\"_blank\">https://wandb.ai/ahmed-sakr79-asu/text_summarizer/runs/53h41vg0</a>"
						],
						"text/plain": [
							"<IPython.core.display.HTML object>"
						]
					},
					"metadata": {},
					"output_type": "display_data"
				}
			],
			"source": [
				"if WANDB_INTEGRATION:\n",
				"    wandb_run = wandb.init(\n",
				"        project=\"text_summarizer\",\n",
				"        config={\n",
				"            \"per_device_train_batch_size\": training_args.per_device_train_batch_size,\n",
				"            \"learning_rate\": training_args.learning_rate,\n",
				"            \"dataset\": \"cnn_dailynews \",\n",
				"        },\n",
				"    )\n",
				"\n",
				"    now = datetime.now()\n",
				"    current_time = now.strftime(\"%H%M%S\")\n",
				"    wandb_run.name = \"run_\" + \"_\" + current_time"
			]
		},
		{
			"cell_type": "code",
			"execution_count": 20,
			"metadata": {
				"execution": {
					"iopub.execute_input": "2024-09-05T17:42:28.030996Z",
					"iopub.status.busy": "2024-09-05T17:42:28.030154Z",
					"iopub.status.idle": "2024-09-05T17:42:28.777192Z",
					"shell.execute_reply": "2024-09-05T17:42:28.776181Z",
					"shell.execute_reply.started": "2024-09-05T17:42:28.030949Z"
				},
				"trusted": true
			},
			"outputs": [],
			"source": [
				"import gc\n",
				"\n",
				"gc.collect()\n",
				"\n",
				"torch.cuda.empty_cache()"
			]
		},
		{
			"cell_type": "code",
			"execution_count": 66,
			"metadata": {
				"execution": {
					"iopub.execute_input": "2024-09-05T13:55:59.076685Z",
					"iopub.status.busy": "2024-09-05T13:55:59.076190Z",
					"iopub.status.idle": "2024-09-05T15:23:29.719899Z",
					"shell.execute_reply": "2024-09-05T15:23:29.719002Z",
					"shell.execute_reply.started": "2024-09-05T13:55:59.076633Z"
				},
				"trusted": true
			},
			"outputs": [
				{
					"data": {
						"text/html": [
							"\n",
							"    <div>\n",
							"      \n",
							"      <progress value='4375' max='4375' style='width:300px; height:20px; vertical-align: middle;'></progress>\n",
							"      [4375/4375 1:27:29, Epoch 1/1]\n",
							"    </div>\n",
							"    <table border=\"1\" class=\"dataframe\">\n",
							"  <thead>\n",
							" <tr style=\"text-align: left;\">\n",
							"      <th>Epoch</th>\n",
							"      <th>Training Loss</th>\n",
							"      <th>Validation Loss</th>\n",
							"      <th>Rouge1</th>\n",
							"      <th>Rouge2</th>\n",
							"      <th>Rougel</th>\n",
							"      <th>Rougelsum</th>\n",
							"      <th>Gen Len</th>\n",
							"    </tr>\n",
							"  </thead>\n",
							"  <tbody>\n",
							"    <tr>\n",
							"      <td>1</td>\n",
							"      <td>3.343000</td>\n",
							"      <td>3.201088</td>\n",
							"      <td>23.415400</td>\n",
							"      <td>10.387700</td>\n",
							"      <td>19.383400</td>\n",
							"      <td>21.819200</td>\n",
							"      <td>19.994200</td>\n",
							"    </tr>\n",
							"  </tbody>\n",
							"</table><p>"
						],
						"text/plain": [
							"<IPython.core.display.HTML object>"
						]
					},
					"metadata": {},
					"output_type": "display_data"
				},
				{
					"name": "stderr",
					"output_type": "stream",
					"text": [
						"Some non-default generation parameters are set in the model config. These should go into a GenerationConfig file (https://huggingface.co/docs/transformers/generation_strategies#save-a-custom-decoding-strategy-with-your-model) instead. This warning will be raised to an exception in v4.41.\n",
						"Non-default generation parameters: {'early_stopping': True, 'num_beams': 4, 'no_repeat_ngram_size': 3, 'forced_bos_token_id': 0, 'forced_eos_token_id': 2}\n",
						"/opt/conda/lib/python3.10/site-packages/transformers/generation/utils.py:1258: UserWarning: Using the model-agnostic default `max_length` (=20) to control the generation length. We recommend setting `max_new_tokens` to control the maximum length of the generation.\n",
						"  warnings.warn(\n",
						"Some non-default generation parameters are set in the model config. These should go into a GenerationConfig file (https://huggingface.co/docs/transformers/generation_strategies#save-a-custom-decoding-strategy-with-your-model) instead. This warning will be raised to an exception in v4.41.\n",
						"Non-default generation parameters: {'early_stopping': True, 'num_beams': 4, 'no_repeat_ngram_size': 3, 'forced_bos_token_id': 0, 'forced_eos_token_id': 2}\n",
						"There were missing keys in the checkpoint model loaded: ['model.encoder.embed_tokens.weight', 'model.decoder.embed_tokens.weight', 'lm_head.weight'].\n"
					]
				},
				{
					"data": {
						"text/plain": [
							"TrainOutput(global_step=4375, training_loss=3.398768709891183, metrics={'train_runtime': 5250.2268, 'train_samples_per_second': 13.333, 'train_steps_per_second': 0.833, 'total_flos': 2.13407760384e+16, 'train_loss': 3.398768709891183, 'epoch': 1.0})"
						]
					},
					"execution_count": 66,
					"metadata": {},
					"output_type": "execute_result"
				}
			],
			"source": [
				"#used for bart\n",
				"trainer.train()"
			]
		},
		{
			"cell_type": "code",
			"execution_count": 63,
			"metadata": {
				"execution": {
					"iopub.execute_input": "2024-09-05T18:03:38.180665Z",
					"iopub.status.busy": "2024-09-05T18:03:38.180263Z",
					"iopub.status.idle": "2024-09-06T00:09:22.353649Z",
					"shell.execute_reply": "2024-09-06T00:09:22.352584Z",
					"shell.execute_reply.started": "2024-09-05T18:03:38.180625Z"
				},
				"trusted": true
			},
			"outputs": [
				{
					"data": {
						"text/html": [
							"\n",
							"    <div>\n",
							"      \n",
							"      <progress value='12250' max='12250' style='width:300px; height:20px; vertical-align: middle;'></progress>\n",
							"      [12250/12250 6:05:42, Epoch 1/1]\n",
							"    </div>\n",
							"    <table border=\"1\" class=\"dataframe\">\n",
							"  <thead>\n",
							" <tr style=\"text-align: left;\">\n",
							"      <th>Epoch</th>\n",
							"      <th>Training Loss</th>\n",
							"      <th>Validation Loss</th>\n",
							"      <th>Rouge1</th>\n",
							"      <th>Rouge2</th>\n",
							"      <th>Rougel</th>\n",
							"    </tr>\n",
							"  </thead>\n",
							"  <tbody>\n",
							"    <tr>\n",
							"      <td>1</td>\n",
							"      <td>0.89</td>\n",
							"      <td>0.88</td>\n",
							"      <td>0.42</td>\n",
							"      <td>0.3</td>\n",
							"      <td>0.35</td>\n",
							"    </tr>\n",
							"  </tbody>\n",
							"</table><p>"
						],
						"text/plain": [
							"<IPython.core.display.HTML object>"
						]
					},
					"metadata": {},
					"output_type": "display_data"
				},
				{
					"name": "stderr",
					"output_type": "stream",
					"text": [
						"Some non-default generation parameters are set in the model config. These should go into a GenerationConfig file (https://huggingface.co/docs/transformers/generation_strategies#save-a-custom-decoding-strategy-with-your-model) instead. This warning will be raised to an exception in v4.41.\n",
						"Non-default generation parameters: {'max_length': 64, 'num_beams': 8, 'length_penalty': 0.6, 'forced_eos_token_id': 1}\n",
						"Some non-default generation parameters are set in the model config. These should go into a GenerationConfig file (https://huggingface.co/docs/transformers/generation_strategies#save-a-custom-decoding-strategy-with-your-model) instead. This warning will be raised to an exception in v4.41.\n",
						"Non-default generation parameters: {'max_length': 64, 'num_beams': 8, 'length_penalty': 0.6, 'forced_eos_token_id': 1}\n",
						"There were missing keys in the checkpoint model loaded: ['model.encoder.embed_tokens.weight', 'model.decoder.embed_tokens.weight', 'lm_head.weight'].\n"
					]
				},
				{
					"data": {
						"text/plain": [
							"TrainOutput(global_step=12250, training_loss=3.244249363490513, metrics={'train_runtime': 21943.1858, 'train_samples_per_second': 2.233, 'train_steps_per_second': 0.558, 'total_flos': 7.0791878148096e+16, 'train_loss': 3.244249363490513, 'epoch': 1.0})"
						]
					},
					"execution_count": 63,
					"metadata": {},
					"output_type": "execute_result"
				}
			],
			"source": [
				"#used for pegasus\n",
				"trainer.train()"
			]
		},
		{
			"cell_type": "code",
			"execution_count": 28,
			"metadata": {},
			"outputs": [
				{
					"name": "stderr",
					"output_type": "stream",
					"text": [
						"[nltk_data] Downloading package punkt_tab to\n",
						"[nltk_data]     C:\\Users\\ahmed\\AppData\\Roaming\\nltk_data...\n",
						"[nltk_data]   Unzipping tokenizers\\punkt_tab.zip.\n"
					]
				},
				{
					"data": {
						"text/plain": [
							"True"
						]
					},
					"execution_count": 28,
					"metadata": {},
					"output_type": "execute_result"
				}
			],
			"source": [
				"nltk.download('punkt_tab')"
			]
		},
		{
			"cell_type": "code",
			"execution_count": 29,
			"metadata": {},
			"outputs": [
				{
					"data": {
						"application/vnd.jupyter.widget-view+json": {
							"model_id": "e9ff419579d64c7998ee99b0e1f0e0cc",
							"version_major": 2,
							"version_minor": 0
						},
						"text/plain": [
							"  0%|          | 0/17500 [00:00<?, ?it/s]"
						]
					},
					"metadata": {},
					"output_type": "display_data"
				},
				{
					"name": "stdout",
					"output_type": "stream",
					"text": [
						"{'loss': 3.5264, 'grad_norm': 1.9784258604049683, 'learning_rate': 5e-06, 'epoch': 0.0}\n",
						"{'loss': 3.3818, 'grad_norm': 2.0811662673950195, 'learning_rate': 1e-05, 'epoch': 0.01}\n",
						"{'loss': 3.4705, 'grad_norm': 1.8946020603179932, 'learning_rate': 1.5e-05, 'epoch': 0.01}\n",
						"{'loss': 3.3589, 'grad_norm': 2.123340129852295, 'learning_rate': 2e-05, 'epoch': 0.01}\n",
						"{'loss': 3.4446, 'grad_norm': 2.4568710327148438, 'learning_rate': 2.5e-05, 'epoch': 0.01}\n",
						"{'loss': 3.3812, 'grad_norm': 2.0378899574279785, 'learning_rate': 3e-05, 'epoch': 0.02}\n",
						"{'loss': 3.4396, 'grad_norm': 2.5617034435272217, 'learning_rate': 3.5e-05, 'epoch': 0.02}\n",
						"{'loss': 3.4313, 'grad_norm': 2.099320411682129, 'learning_rate': 4e-05, 'epoch': 0.02}\n",
						"{'loss': 3.4003, 'grad_norm': 2.774787425994873, 'learning_rate': 4.5e-05, 'epoch': 0.03}\n",
						"{'loss': 3.4129, 'grad_norm': 2.1701996326446533, 'learning_rate': 5e-05, 'epoch': 0.03}\n",
						"{'loss': 3.4743, 'grad_norm': 2.319622755050659, 'learning_rate': 4.985294117647059e-05, 'epoch': 0.03}\n",
						"{'loss': 3.429, 'grad_norm': 1.9469693899154663, 'learning_rate': 4.970588235294118e-05, 'epoch': 0.03}\n",
						"{'loss': 3.4631, 'grad_norm': 2.2102456092834473, 'learning_rate': 4.955882352941177e-05, 'epoch': 0.04}\n",
						"{'loss': 3.3688, 'grad_norm': 2.0750348567962646, 'learning_rate': 4.9411764705882355e-05, 'epoch': 0.04}\n",
						"{'loss': 3.4663, 'grad_norm': 2.148568868637085, 'learning_rate': 4.9264705882352944e-05, 'epoch': 0.04}\n",
						"{'loss': 3.473, 'grad_norm': 2.426795244216919, 'learning_rate': 4.911764705882353e-05, 'epoch': 0.05}\n",
						"{'loss': 3.4157, 'grad_norm': 2.0002079010009766, 'learning_rate': 4.897058823529412e-05, 'epoch': 0.05}\n",
						"{'loss': 3.4975, 'grad_norm': 1.824196219444275, 'learning_rate': 4.882352941176471e-05, 'epoch': 0.05}\n",
						"{'loss': 3.3592, 'grad_norm': 2.266008138656616, 'learning_rate': 4.86764705882353e-05, 'epoch': 0.05}\n",
						"{'loss': 3.3441, 'grad_norm': 1.7603869438171387, 'learning_rate': 4.8529411764705885e-05, 'epoch': 0.06}\n",
						"{'loss': 3.445, 'grad_norm': 2.0754449367523193, 'learning_rate': 4.838235294117647e-05, 'epoch': 0.06}\n",
						"{'loss': 3.4439, 'grad_norm': 2.1331589221954346, 'learning_rate': 4.823529411764706e-05, 'epoch': 0.06}\n",
						"{'loss': 3.3786, 'grad_norm': 1.962815761566162, 'learning_rate': 4.808823529411765e-05, 'epoch': 0.07}\n",
						"{'loss': 3.4421, 'grad_norm': 2.2314324378967285, 'learning_rate': 4.794117647058824e-05, 'epoch': 0.07}\n",
						"{'loss': 3.4746, 'grad_norm': 1.8948956727981567, 'learning_rate': 4.7794117647058826e-05, 'epoch': 0.07}\n",
						"{'loss': 3.4017, 'grad_norm': 2.294201612472534, 'learning_rate': 4.7647058823529414e-05, 'epoch': 0.07}\n",
						"{'loss': 3.4866, 'grad_norm': 1.8884752988815308, 'learning_rate': 4.75e-05, 'epoch': 0.08}\n",
						"{'loss': 3.4537, 'grad_norm': 1.6477159261703491, 'learning_rate': 4.735294117647059e-05, 'epoch': 0.08}\n",
						"{'loss': 3.4663, 'grad_norm': 1.7494094371795654, 'learning_rate': 4.720588235294118e-05, 'epoch': 0.08}\n",
						"{'loss': 3.3995, 'grad_norm': 1.6448255777359009, 'learning_rate': 4.705882352941177e-05, 'epoch': 0.09}\n",
						"{'loss': 3.4169, 'grad_norm': 2.0648181438446045, 'learning_rate': 4.6911764705882356e-05, 'epoch': 0.09}\n",
						"{'loss': 3.4488, 'grad_norm': 2.3213798999786377, 'learning_rate': 4.6764705882352944e-05, 'epoch': 0.09}\n",
						"{'loss': 3.4861, 'grad_norm': 2.014753580093384, 'learning_rate': 4.661764705882353e-05, 'epoch': 0.09}\n",
						"{'loss': 3.4696, 'grad_norm': 2.2388527393341064, 'learning_rate': 4.647058823529412e-05, 'epoch': 0.1}\n",
						"{'loss': 3.4385, 'grad_norm': 2.0355424880981445, 'learning_rate': 4.632352941176471e-05, 'epoch': 0.1}\n",
						"{'loss': 3.4354, 'grad_norm': 2.562349557876587, 'learning_rate': 4.61764705882353e-05, 'epoch': 0.1}\n",
						"{'loss': 3.4728, 'grad_norm': 1.933301568031311, 'learning_rate': 4.6029411764705885e-05, 'epoch': 0.11}\n",
						"{'loss': 3.3851, 'grad_norm': 2.596769094467163, 'learning_rate': 4.588235294117647e-05, 'epoch': 0.11}\n",
						"{'loss': 3.4012, 'grad_norm': 2.155437707901001, 'learning_rate': 4.573529411764706e-05, 'epoch': 0.11}\n",
						"{'loss': 3.4707, 'grad_norm': 2.1906895637512207, 'learning_rate': 4.558823529411765e-05, 'epoch': 0.11}\n",
						"{'loss': 3.4846, 'grad_norm': 2.0591542720794678, 'learning_rate': 4.544117647058824e-05, 'epoch': 0.12}\n",
						"{'loss': 3.4561, 'grad_norm': 2.1719813346862793, 'learning_rate': 4.5294117647058826e-05, 'epoch': 0.12}\n",
						"{'loss': 3.4619, 'grad_norm': 2.39346981048584, 'learning_rate': 4.5147058823529415e-05, 'epoch': 0.12}\n",
						"{'loss': 3.4796, 'grad_norm': 1.9550856351852417, 'learning_rate': 4.5e-05, 'epoch': 0.13}\n",
						"{'loss': 3.4902, 'grad_norm': 2.0673177242279053, 'learning_rate': 4.485294117647059e-05, 'epoch': 0.13}\n",
						"{'loss': 3.4144, 'grad_norm': 2.2435226440429688, 'learning_rate': 4.470588235294118e-05, 'epoch': 0.13}\n",
						"{'loss': 3.4306, 'grad_norm': 1.7357815504074097, 'learning_rate': 4.455882352941177e-05, 'epoch': 0.13}\n",
						"{'loss': 3.4012, 'grad_norm': 1.9720364809036255, 'learning_rate': 4.4411764705882356e-05, 'epoch': 0.14}\n",
						"{'loss': 3.4163, 'grad_norm': 2.00736665725708, 'learning_rate': 4.4264705882352944e-05, 'epoch': 0.14}\n",
						"{'loss': 3.4128, 'grad_norm': 2.6487131118774414, 'learning_rate': 4.411764705882353e-05, 'epoch': 0.14}\n",
						"{'loss': 3.3933, 'grad_norm': 2.846470355987549, 'learning_rate': 4.397058823529412e-05, 'epoch': 0.15}\n",
						"{'loss': 3.3727, 'grad_norm': 2.1930718421936035, 'learning_rate': 4.382352941176471e-05, 'epoch': 0.15}\n",
						"{'loss': 3.4738, 'grad_norm': 1.893245816230774, 'learning_rate': 4.36764705882353e-05, 'epoch': 0.15}\n",
						"{'loss': 3.4624, 'grad_norm': 2.09242844581604, 'learning_rate': 4.3529411764705885e-05, 'epoch': 0.15}\n",
						"{'loss': 3.4542, 'grad_norm': 2.3955025672912598, 'learning_rate': 4.3382352941176474e-05, 'epoch': 0.16}\n",
						"{'loss': 3.4985, 'grad_norm': 2.021031379699707, 'learning_rate': 4.323529411764706e-05, 'epoch': 0.16}\n",
						"{'loss': 3.4214, 'grad_norm': 2.010474443435669, 'learning_rate': 4.308823529411765e-05, 'epoch': 0.16}\n",
						"{'loss': 3.369, 'grad_norm': 2.1589322090148926, 'learning_rate': 4.294117647058823e-05, 'epoch': 0.17}\n",
						"{'loss': 3.4714, 'grad_norm': 2.6132147312164307, 'learning_rate': 4.2794117647058827e-05, 'epoch': 0.17}\n",
						"{'loss': 3.4971, 'grad_norm': 2.052626848220825, 'learning_rate': 4.2647058823529415e-05, 'epoch': 0.17}\n",
						"{'loss': 3.4221, 'grad_norm': 2.1504485607147217, 'learning_rate': 4.25e-05, 'epoch': 0.17}\n",
						"{'loss': 3.4536, 'grad_norm': 2.1968483924865723, 'learning_rate': 4.235294117647059e-05, 'epoch': 0.18}\n",
						"{'loss': 3.4283, 'grad_norm': 1.9707543849945068, 'learning_rate': 4.220588235294118e-05, 'epoch': 0.18}\n",
						"{'loss': 3.3857, 'grad_norm': 1.9910359382629395, 'learning_rate': 4.205882352941177e-05, 'epoch': 0.18}\n",
						"{'loss': 3.5734, 'grad_norm': 2.644531726837158, 'learning_rate': 4.1911764705882356e-05, 'epoch': 0.19}\n",
						"{'loss': 3.5127, 'grad_norm': 2.8411014080047607, 'learning_rate': 4.1764705882352944e-05, 'epoch': 0.19}\n",
						"{'loss': 3.5014, 'grad_norm': 2.902243137359619, 'learning_rate': 4.161764705882353e-05, 'epoch': 0.19}\n",
						"{'loss': 3.4359, 'grad_norm': 2.2250852584838867, 'learning_rate': 4.147058823529412e-05, 'epoch': 0.19}\n",
						"{'loss': 3.4343, 'grad_norm': 1.9552242755889893, 'learning_rate': 4.13235294117647e-05, 'epoch': 0.2}\n",
						"{'loss': 3.4924, 'grad_norm': 2.1447131633758545, 'learning_rate': 4.11764705882353e-05, 'epoch': 0.2}\n",
						"{'loss': 3.4008, 'grad_norm': 2.141676187515259, 'learning_rate': 4.1029411764705886e-05, 'epoch': 0.2}\n",
						"{'loss': 3.4633, 'grad_norm': 1.9219627380371094, 'learning_rate': 4.0882352941176474e-05, 'epoch': 0.21}\n",
						"{'loss': 3.4979, 'grad_norm': 2.0516574382781982, 'learning_rate': 4.073529411764706e-05, 'epoch': 0.21}\n",
						"{'loss': 3.4436, 'grad_norm': 1.9849334955215454, 'learning_rate': 4.058823529411765e-05, 'epoch': 0.21}\n",
						"{'loss': 3.3822, 'grad_norm': 2.199908494949341, 'learning_rate': 4.044117647058824e-05, 'epoch': 0.21}\n",
						"{'loss': 3.391, 'grad_norm': 2.070894956588745, 'learning_rate': 4.029411764705883e-05, 'epoch': 0.22}\n",
						"{'loss': 3.4432, 'grad_norm': 2.1472434997558594, 'learning_rate': 4.0147058823529415e-05, 'epoch': 0.22}\n",
						"{'loss': 3.3623, 'grad_norm': 1.7426024675369263, 'learning_rate': 4e-05, 'epoch': 0.22}\n",
						"{'loss': 3.4781, 'grad_norm': 1.8016993999481201, 'learning_rate': 3.985294117647059e-05, 'epoch': 0.23}\n",
						"{'loss': 3.4365, 'grad_norm': 3.1122217178344727, 'learning_rate': 3.970588235294117e-05, 'epoch': 0.23}\n",
						"{'loss': 3.4574, 'grad_norm': 2.0964510440826416, 'learning_rate': 3.955882352941177e-05, 'epoch': 0.23}\n",
						"{'loss': 3.4283, 'grad_norm': 1.880410075187683, 'learning_rate': 3.9411764705882356e-05, 'epoch': 0.23}\n",
						"{'loss': 3.4627, 'grad_norm': 2.3106689453125, 'learning_rate': 3.9264705882352945e-05, 'epoch': 0.24}\n",
						"{'loss': 3.4359, 'grad_norm': 1.9654170274734497, 'learning_rate': 3.911764705882353e-05, 'epoch': 0.24}\n",
						"{'loss': 3.3891, 'grad_norm': 2.2308387756347656, 'learning_rate': 3.897058823529412e-05, 'epoch': 0.24}\n",
						"{'loss': 3.4525, 'grad_norm': 2.336590528488159, 'learning_rate': 3.882352941176471e-05, 'epoch': 0.25}\n",
						"{'loss': 3.4493, 'grad_norm': 2.383155345916748, 'learning_rate': 3.86764705882353e-05, 'epoch': 0.25}\n",
						"{'loss': 3.4017, 'grad_norm': 2.050382614135742, 'learning_rate': 3.8529411764705886e-05, 'epoch': 0.25}\n",
						"{'loss': 3.4563, 'grad_norm': 2.489985466003418, 'learning_rate': 3.8382352941176474e-05, 'epoch': 0.25}\n",
						"{'loss': 3.4096, 'grad_norm': 2.4425787925720215, 'learning_rate': 3.8235294117647055e-05, 'epoch': 0.26}\n",
						"{'loss': 3.444, 'grad_norm': 2.2086308002471924, 'learning_rate': 3.8088235294117644e-05, 'epoch': 0.26}\n",
						"{'loss': 3.4389, 'grad_norm': 2.5284264087677, 'learning_rate': 3.794117647058824e-05, 'epoch': 0.26}\n",
						"{'loss': 3.4421, 'grad_norm': 2.413957357406616, 'learning_rate': 3.779411764705883e-05, 'epoch': 0.27}\n",
						"{'loss': 3.5557, 'grad_norm': 1.867697834968567, 'learning_rate': 3.7647058823529415e-05, 'epoch': 0.27}\n",
						"{'loss': 3.4399, 'grad_norm': 2.507328748703003, 'learning_rate': 3.7500000000000003e-05, 'epoch': 0.27}\n",
						"{'loss': 3.4865, 'grad_norm': 2.2295897006988525, 'learning_rate': 3.735294117647059e-05, 'epoch': 0.27}\n",
						"{'loss': 3.4255, 'grad_norm': 2.0060343742370605, 'learning_rate': 3.720588235294118e-05, 'epoch': 0.28}\n",
						"{'loss': 3.4539, 'grad_norm': 1.963729977607727, 'learning_rate': 3.705882352941177e-05, 'epoch': 0.28}\n",
						"{'loss': 3.5274, 'grad_norm': 2.332793712615967, 'learning_rate': 3.6911764705882356e-05, 'epoch': 0.28}\n",
						"{'loss': 3.3734, 'grad_norm': 2.183655023574829, 'learning_rate': 3.6764705882352945e-05, 'epoch': 0.29}\n",
						"{'loss': 3.4803, 'grad_norm': 2.450195789337158, 'learning_rate': 3.6617647058823526e-05, 'epoch': 0.29}\n",
						"{'loss': 3.4175, 'grad_norm': 2.603825092315674, 'learning_rate': 3.6470588235294114e-05, 'epoch': 0.29}\n",
						"{'loss': 3.4933, 'grad_norm': 2.042452812194824, 'learning_rate': 3.632352941176471e-05, 'epoch': 0.29}\n",
						"{'loss': 3.4995, 'grad_norm': 2.907381057739258, 'learning_rate': 3.61764705882353e-05, 'epoch': 0.3}\n",
						"{'loss': 3.3837, 'grad_norm': 2.4093503952026367, 'learning_rate': 3.6029411764705886e-05, 'epoch': 0.3}\n",
						"{'loss': 3.3948, 'grad_norm': 2.240281105041504, 'learning_rate': 3.5882352941176474e-05, 'epoch': 0.3}\n",
						"{'loss': 3.3421, 'grad_norm': 2.466480016708374, 'learning_rate': 3.573529411764706e-05, 'epoch': 0.31}\n",
						"{'loss': 3.4158, 'grad_norm': 1.9555250406265259, 'learning_rate': 3.558823529411765e-05, 'epoch': 0.31}\n",
						"{'loss': 3.4635, 'grad_norm': 2.0642611980438232, 'learning_rate': 3.544117647058824e-05, 'epoch': 0.31}\n",
						"{'loss': 3.3592, 'grad_norm': 1.9779201745986938, 'learning_rate': 3.529411764705883e-05, 'epoch': 0.31}\n",
						"{'loss': 3.5056, 'grad_norm': 2.3365652561187744, 'learning_rate': 3.514705882352941e-05, 'epoch': 0.32}\n",
						"{'loss': 3.4149, 'grad_norm': 2.6804535388946533, 'learning_rate': 3.5e-05, 'epoch': 0.32}\n",
						"{'loss': 3.4021, 'grad_norm': 2.5427043437957764, 'learning_rate': 3.4852941176470585e-05, 'epoch': 0.32}\n",
						"{'loss': 3.3877, 'grad_norm': 1.7077679634094238, 'learning_rate': 3.470588235294118e-05, 'epoch': 0.33}\n",
						"{'loss': 3.4256, 'grad_norm': 2.4126384258270264, 'learning_rate': 3.455882352941177e-05, 'epoch': 0.33}\n",
						"{'loss': 3.4649, 'grad_norm': 2.2254717350006104, 'learning_rate': 3.441176470588236e-05, 'epoch': 0.33}\n",
						"{'loss': 3.4041, 'grad_norm': 1.7502015829086304, 'learning_rate': 3.4264705882352945e-05, 'epoch': 0.33}\n",
						"{'loss': 3.3612, 'grad_norm': 2.142946243286133, 'learning_rate': 3.411764705882353e-05, 'epoch': 0.34}\n",
						"{'loss': 3.5151, 'grad_norm': 2.139082670211792, 'learning_rate': 3.397058823529412e-05, 'epoch': 0.34}\n",
						"{'loss': 3.4183, 'grad_norm': 2.050697088241577, 'learning_rate': 3.382352941176471e-05, 'epoch': 0.34}\n",
						"{'loss': 3.5007, 'grad_norm': 2.5894277095794678, 'learning_rate': 3.36764705882353e-05, 'epoch': 0.35}\n",
						"{'loss': 3.4907, 'grad_norm': 2.2143397331237793, 'learning_rate': 3.352941176470588e-05, 'epoch': 0.35}\n",
						"{'loss': 3.3635, 'grad_norm': 1.9689507484436035, 'learning_rate': 3.338235294117647e-05, 'epoch': 0.35}\n",
						"{'loss': 3.4248, 'grad_norm': 2.153477191925049, 'learning_rate': 3.3235294117647056e-05, 'epoch': 0.35}\n",
						"{'loss': 3.3956, 'grad_norm': 2.250838041305542, 'learning_rate': 3.308823529411765e-05, 'epoch': 0.36}\n",
						"{'loss': 3.4414, 'grad_norm': 1.5568830966949463, 'learning_rate': 3.294117647058824e-05, 'epoch': 0.36}\n",
						"{'loss': 3.4319, 'grad_norm': 2.4684979915618896, 'learning_rate': 3.279411764705883e-05, 'epoch': 0.36}\n",
						"{'loss': 3.4123, 'grad_norm': 2.9287540912628174, 'learning_rate': 3.2647058823529416e-05, 'epoch': 0.37}\n",
						"{'loss': 3.4251, 'grad_norm': 2.09928822517395, 'learning_rate': 3.2500000000000004e-05, 'epoch': 0.37}\n",
						"{'loss': 3.3912, 'grad_norm': 1.7076327800750732, 'learning_rate': 3.235294117647059e-05, 'epoch': 0.37}\n",
						"{'loss': 3.3954, 'grad_norm': 2.7264652252197266, 'learning_rate': 3.220588235294118e-05, 'epoch': 0.37}\n",
						"{'loss': 3.4207, 'grad_norm': 1.8289248943328857, 'learning_rate': 3.205882352941177e-05, 'epoch': 0.38}\n",
						"{'loss': 3.4647, 'grad_norm': 2.5508906841278076, 'learning_rate': 3.191176470588235e-05, 'epoch': 0.38}\n",
						"{'loss': 3.4358, 'grad_norm': 2.011120319366455, 'learning_rate': 3.176470588235294e-05, 'epoch': 0.38}\n",
						"{'loss': 3.4494, 'grad_norm': 2.168748140335083, 'learning_rate': 3.161764705882353e-05, 'epoch': 0.39}\n",
						"{'loss': 3.4656, 'grad_norm': 1.8721929788589478, 'learning_rate': 3.147058823529412e-05, 'epoch': 0.39}\n",
						"{'loss': 3.4431, 'grad_norm': 2.341749429702759, 'learning_rate': 3.132352941176471e-05, 'epoch': 0.39}\n",
						"{'loss': 3.5382, 'grad_norm': 1.8422675132751465, 'learning_rate': 3.11764705882353e-05, 'epoch': 0.39}\n",
						"{'loss': 3.3793, 'grad_norm': 1.9115879535675049, 'learning_rate': 3.1029411764705886e-05, 'epoch': 0.4}\n",
						"{'loss': 3.3378, 'grad_norm': 2.1068496704101562, 'learning_rate': 3.0882352941176475e-05, 'epoch': 0.4}\n",
						"{'loss': 3.3813, 'grad_norm': 3.2105071544647217, 'learning_rate': 3.073529411764706e-05, 'epoch': 0.4}\n",
						"{'loss': 3.4661, 'grad_norm': 5.789388179779053, 'learning_rate': 3.058823529411765e-05, 'epoch': 0.41}\n",
						"{'loss': 3.4097, 'grad_norm': 1.9863951206207275, 'learning_rate': 3.0441176470588233e-05, 'epoch': 0.41}\n",
						"{'loss': 3.4136, 'grad_norm': 2.460392475128174, 'learning_rate': 3.0294117647058824e-05, 'epoch': 0.41}\n",
						"{'loss': 3.3879, 'grad_norm': 2.189173698425293, 'learning_rate': 3.0147058823529413e-05, 'epoch': 0.41}\n",
						"{'loss': 3.4052, 'grad_norm': 2.890170097351074, 'learning_rate': 3e-05, 'epoch': 0.42}\n",
						"{'loss': 3.3872, 'grad_norm': 2.736938714981079, 'learning_rate': 2.985294117647059e-05, 'epoch': 0.42}\n",
						"{'loss': 3.4265, 'grad_norm': 2.202911615371704, 'learning_rate': 2.9705882352941177e-05, 'epoch': 0.42}\n",
						"{'loss': 3.339, 'grad_norm': 1.8397374153137207, 'learning_rate': 2.9558823529411766e-05, 'epoch': 0.43}\n",
						"{'loss': 3.4589, 'grad_norm': 2.269684076309204, 'learning_rate': 2.9411764705882354e-05, 'epoch': 0.43}\n",
						"{'loss': 3.4295, 'grad_norm': 2.015714168548584, 'learning_rate': 2.9264705882352945e-05, 'epoch': 0.43}\n",
						"{'loss': 3.4075, 'grad_norm': 2.1982579231262207, 'learning_rate': 2.9117647058823534e-05, 'epoch': 0.43}\n",
						"{'loss': 3.4157, 'grad_norm': 2.469419479370117, 'learning_rate': 2.8970588235294122e-05, 'epoch': 0.44}\n",
						"{'loss': 3.4506, 'grad_norm': 2.6649515628814697, 'learning_rate': 2.8823529411764703e-05, 'epoch': 0.44}\n",
						"{'loss': 3.4543, 'grad_norm': 2.080742120742798, 'learning_rate': 2.8676470588235295e-05, 'epoch': 0.44}\n",
						"{'loss': 3.4711, 'grad_norm': 1.9804184436798096, 'learning_rate': 2.8529411764705883e-05, 'epoch': 0.45}\n",
						"{'loss': 3.3885, 'grad_norm': 1.9725611209869385, 'learning_rate': 2.838235294117647e-05, 'epoch': 0.45}\n",
						"{'loss': 3.4539, 'grad_norm': 1.9808534383773804, 'learning_rate': 2.823529411764706e-05, 'epoch': 0.45}\n",
						"{'loss': 3.3713, 'grad_norm': 2.5459349155426025, 'learning_rate': 2.8088235294117648e-05, 'epoch': 0.45}\n",
						"{'loss': 3.4086, 'grad_norm': 1.8044761419296265, 'learning_rate': 2.7941176470588236e-05, 'epoch': 0.46}\n",
						"{'loss': 3.427, 'grad_norm': 1.813899040222168, 'learning_rate': 2.7794117647058824e-05, 'epoch': 0.46}\n",
						"{'loss': 3.3735, 'grad_norm': 1.9698050022125244, 'learning_rate': 2.7647058823529416e-05, 'epoch': 0.46}\n",
						"{'loss': 3.4287, 'grad_norm': 2.3244662284851074, 'learning_rate': 2.7500000000000004e-05, 'epoch': 0.47}\n",
						"{'loss': 3.4676, 'grad_norm': 2.0234248638153076, 'learning_rate': 2.7352941176470593e-05, 'epoch': 0.47}\n",
						"{'loss': 3.4974, 'grad_norm': 2.2867720127105713, 'learning_rate': 2.7205882352941174e-05, 'epoch': 0.47}\n",
						"{'loss': 3.3048, 'grad_norm': 2.0620598793029785, 'learning_rate': 2.7058823529411766e-05, 'epoch': 0.47}\n",
						"{'loss': 3.3771, 'grad_norm': 2.0162429809570312, 'learning_rate': 2.6911764705882354e-05, 'epoch': 0.48}\n",
						"{'loss': 3.4623, 'grad_norm': 2.0181660652160645, 'learning_rate': 2.6764705882352942e-05, 'epoch': 0.48}\n",
						"{'loss': 3.4036, 'grad_norm': 2.173034906387329, 'learning_rate': 2.661764705882353e-05, 'epoch': 0.48}\n",
						"{'loss': 3.392, 'grad_norm': 2.8327927589416504, 'learning_rate': 2.647058823529412e-05, 'epoch': 0.49}\n",
						"{'loss': 3.4505, 'grad_norm': 2.3441455364227295, 'learning_rate': 2.6323529411764707e-05, 'epoch': 0.49}\n",
						"{'loss': 3.4049, 'grad_norm': 2.208571672439575, 'learning_rate': 2.6176470588235295e-05, 'epoch': 0.49}\n",
						"{'loss': 3.4614, 'grad_norm': 1.5109469890594482, 'learning_rate': 2.6029411764705887e-05, 'epoch': 0.49}\n",
						"{'loss': 3.4281, 'grad_norm': 2.0857856273651123, 'learning_rate': 2.5882352941176475e-05, 'epoch': 0.5}\n",
						"{'loss': 3.3999, 'grad_norm': 1.6425048112869263, 'learning_rate': 2.5735294117647057e-05, 'epoch': 0.5}\n",
						"{'loss': 3.4068, 'grad_norm': 2.1844606399536133, 'learning_rate': 2.5588235294117645e-05, 'epoch': 0.5}\n",
						"{'loss': 3.4554, 'grad_norm': 1.784062147140503, 'learning_rate': 2.5441176470588236e-05, 'epoch': 0.51}\n",
						"{'loss': 3.4508, 'grad_norm': 1.9260237216949463, 'learning_rate': 2.5294117647058825e-05, 'epoch': 0.51}\n",
						"{'loss': 3.4327, 'grad_norm': 1.775224208831787, 'learning_rate': 2.5147058823529413e-05, 'epoch': 0.51}\n",
						"{'loss': 3.4338, 'grad_norm': 2.678705930709839, 'learning_rate': 2.5e-05, 'epoch': 0.51}\n",
						"{'loss': 3.4656, 'grad_norm': 1.9875178337097168, 'learning_rate': 2.485294117647059e-05, 'epoch': 0.52}\n",
						"{'loss': 3.4407, 'grad_norm': 2.168043613433838, 'learning_rate': 2.4705882352941178e-05, 'epoch': 0.52}\n",
						"{'loss': 3.4665, 'grad_norm': 1.8398807048797607, 'learning_rate': 2.4558823529411766e-05, 'epoch': 0.52}\n",
						"{'loss': 3.3996, 'grad_norm': 2.922637939453125, 'learning_rate': 2.4411764705882354e-05, 'epoch': 0.53}\n",
						"{'loss': 3.4465, 'grad_norm': 2.7561306953430176, 'learning_rate': 2.4264705882352942e-05, 'epoch': 0.53}\n",
						"{'loss': 3.421, 'grad_norm': 2.275364398956299, 'learning_rate': 2.411764705882353e-05, 'epoch': 0.53}\n",
						"{'loss': 3.4291, 'grad_norm': 1.9912954568862915, 'learning_rate': 2.397058823529412e-05, 'epoch': 0.53}\n",
						"{'loss': 3.3867, 'grad_norm': 2.3448052406311035, 'learning_rate': 2.3823529411764707e-05, 'epoch': 0.54}\n",
						"{'loss': 3.4647, 'grad_norm': 1.9512230157852173, 'learning_rate': 2.3676470588235295e-05, 'epoch': 0.54}\n",
						"{'loss': 3.435, 'grad_norm': 2.4188554286956787, 'learning_rate': 2.3529411764705884e-05, 'epoch': 0.54}\n",
						"{'loss': 3.4775, 'grad_norm': 1.9445713758468628, 'learning_rate': 2.3382352941176472e-05, 'epoch': 0.55}\n",
						"{'loss': 3.4772, 'grad_norm': 1.9679973125457764, 'learning_rate': 2.323529411764706e-05, 'epoch': 0.55}\n",
						"{'loss': 3.4698, 'grad_norm': 2.237853765487671, 'learning_rate': 2.308823529411765e-05, 'epoch': 0.55}\n",
						"{'loss': 3.3714, 'grad_norm': 2.263547897338867, 'learning_rate': 2.2941176470588237e-05, 'epoch': 0.55}\n",
						"{'loss': 3.4763, 'grad_norm': 1.9312107563018799, 'learning_rate': 2.2794117647058825e-05, 'epoch': 0.56}\n",
						"{'loss': 3.4933, 'grad_norm': 1.8373452425003052, 'learning_rate': 2.2647058823529413e-05, 'epoch': 0.56}\n",
						"{'loss': 3.4886, 'grad_norm': 2.1676573753356934, 'learning_rate': 2.25e-05, 'epoch': 0.56}\n",
						"{'loss': 3.4141, 'grad_norm': 2.266829490661621, 'learning_rate': 2.235294117647059e-05, 'epoch': 0.57}\n",
						"{'loss': 3.5395, 'grad_norm': 1.7365657091140747, 'learning_rate': 2.2205882352941178e-05, 'epoch': 0.57}\n",
						"{'loss': 3.5216, 'grad_norm': 1.7993720769882202, 'learning_rate': 2.2058823529411766e-05, 'epoch': 0.57}\n",
						"{'loss': 3.4162, 'grad_norm': 1.9957356452941895, 'learning_rate': 2.1911764705882354e-05, 'epoch': 0.57}\n",
						"{'loss': 3.3459, 'grad_norm': 1.8097199201583862, 'learning_rate': 2.1764705882352943e-05, 'epoch': 0.58}\n",
						"{'loss': 3.4556, 'grad_norm': 1.8327099084854126, 'learning_rate': 2.161764705882353e-05, 'epoch': 0.58}\n",
						"{'loss': 3.4459, 'grad_norm': 2.0376007556915283, 'learning_rate': 2.1470588235294116e-05, 'epoch': 0.58}\n",
						"{'loss': 3.4474, 'grad_norm': 2.337029457092285, 'learning_rate': 2.1323529411764707e-05, 'epoch': 0.59}\n",
						"{'loss': 3.4643, 'grad_norm': 2.178664445877075, 'learning_rate': 2.1176470588235296e-05, 'epoch': 0.59}\n",
						"{'loss': 3.4281, 'grad_norm': 2.153174877166748, 'learning_rate': 2.1029411764705884e-05, 'epoch': 0.59}\n",
						"{'loss': 3.3578, 'grad_norm': 2.0327863693237305, 'learning_rate': 2.0882352941176472e-05, 'epoch': 0.59}\n",
						"{'loss': 3.4587, 'grad_norm': 1.9874870777130127, 'learning_rate': 2.073529411764706e-05, 'epoch': 0.6}\n",
						"{'loss': 3.4136, 'grad_norm': 3.8248281478881836, 'learning_rate': 2.058823529411765e-05, 'epoch': 0.6}\n",
						"{'loss': 3.4389, 'grad_norm': 2.3349359035491943, 'learning_rate': 2.0441176470588237e-05, 'epoch': 0.6}\n",
						"{'loss': 3.4815, 'grad_norm': 2.3569347858428955, 'learning_rate': 2.0294117647058825e-05, 'epoch': 0.61}\n",
						"{'loss': 3.5148, 'grad_norm': 1.8222352266311646, 'learning_rate': 2.0147058823529413e-05, 'epoch': 0.61}\n",
						"{'loss': 3.4352, 'grad_norm': 3.2635321617126465, 'learning_rate': 2e-05, 'epoch': 0.61}\n",
						"{'loss': 3.4244, 'grad_norm': 2.4435935020446777, 'learning_rate': 1.9852941176470586e-05, 'epoch': 0.61}\n",
						"{'loss': 3.566, 'grad_norm': 1.9274728298187256, 'learning_rate': 1.9705882352941178e-05, 'epoch': 0.62}\n",
						"{'loss': 3.5005, 'grad_norm': 1.9590321779251099, 'learning_rate': 1.9558823529411766e-05, 'epoch': 0.62}\n",
						"{'loss': 3.4599, 'grad_norm': 2.010899782180786, 'learning_rate': 1.9411764705882355e-05, 'epoch': 0.62}\n",
						"{'loss': 3.4175, 'grad_norm': 2.3711466789245605, 'learning_rate': 1.9264705882352943e-05, 'epoch': 0.63}\n",
						"{'loss': 3.3813, 'grad_norm': 2.1047449111938477, 'learning_rate': 1.9117647058823528e-05, 'epoch': 0.63}\n",
						"{'loss': 3.4521, 'grad_norm': 1.9151023626327515, 'learning_rate': 1.897058823529412e-05, 'epoch': 0.63}\n",
						"{'loss': 3.4032, 'grad_norm': 2.39819073677063, 'learning_rate': 1.8823529411764708e-05, 'epoch': 0.63}\n",
						"{'loss': 3.4297, 'grad_norm': 2.040051221847534, 'learning_rate': 1.8676470588235296e-05, 'epoch': 0.64}\n",
						"{'loss': 3.4649, 'grad_norm': 2.0619449615478516, 'learning_rate': 1.8529411764705884e-05, 'epoch': 0.64}\n",
						"{'loss': 3.4533, 'grad_norm': 2.5610952377319336, 'learning_rate': 1.8382352941176472e-05, 'epoch': 0.64}\n",
						"{'loss': 3.4135, 'grad_norm': 2.5595312118530273, 'learning_rate': 1.8235294117647057e-05, 'epoch': 0.65}\n",
						"{'loss': 3.4761, 'grad_norm': 2.155057668685913, 'learning_rate': 1.808823529411765e-05, 'epoch': 0.65}\n",
						"{'loss': 3.4519, 'grad_norm': 2.1481077671051025, 'learning_rate': 1.7941176470588237e-05, 'epoch': 0.65}\n",
						"{'loss': 3.4257, 'grad_norm': 2.07287335395813, 'learning_rate': 1.7794117647058825e-05, 'epoch': 0.65}\n",
						"{'loss': 3.3802, 'grad_norm': 2.551053762435913, 'learning_rate': 1.7647058823529414e-05, 'epoch': 0.66}\n",
						"{'loss': 3.4636, 'grad_norm': 2.6006197929382324, 'learning_rate': 1.75e-05, 'epoch': 0.66}\n",
						"{'loss': 3.3715, 'grad_norm': 2.5550591945648193, 'learning_rate': 1.735294117647059e-05, 'epoch': 0.66}\n",
						"{'loss': 3.4439, 'grad_norm': 1.8304858207702637, 'learning_rate': 1.720588235294118e-05, 'epoch': 0.67}\n",
						"{'loss': 3.3966, 'grad_norm': 1.8036997318267822, 'learning_rate': 1.7058823529411767e-05, 'epoch': 0.67}\n",
						"{'loss': 3.4388, 'grad_norm': 2.310004472732544, 'learning_rate': 1.6911764705882355e-05, 'epoch': 0.67}\n",
						"{'loss': 3.4312, 'grad_norm': 2.092787504196167, 'learning_rate': 1.676470588235294e-05, 'epoch': 0.67}\n",
						"{'loss': 3.4148, 'grad_norm': 2.4376399517059326, 'learning_rate': 1.6617647058823528e-05, 'epoch': 0.68}\n",
						"{'loss': 3.4487, 'grad_norm': 2.148322343826294, 'learning_rate': 1.647058823529412e-05, 'epoch': 0.68}\n",
						"{'loss': 3.4528, 'grad_norm': 2.4991819858551025, 'learning_rate': 1.6323529411764708e-05, 'epoch': 0.68}\n",
						"{'loss': 3.385, 'grad_norm': 1.9410374164581299, 'learning_rate': 1.6176470588235296e-05, 'epoch': 0.69}\n",
						"{'loss': 3.486, 'grad_norm': 1.7688249349594116, 'learning_rate': 1.6029411764705884e-05, 'epoch': 0.69}\n",
						"{'loss': 3.4766, 'grad_norm': 1.9284257888793945, 'learning_rate': 1.588235294117647e-05, 'epoch': 0.69}\n",
						"{'loss': 3.5155, 'grad_norm': 1.7507777214050293, 'learning_rate': 1.573529411764706e-05, 'epoch': 0.69}\n",
						"{'loss': 3.4461, 'grad_norm': 2.129725933074951, 'learning_rate': 1.558823529411765e-05, 'epoch': 0.7}\n",
						"{'loss': 3.5034, 'grad_norm': 2.1743438243865967, 'learning_rate': 1.5441176470588237e-05, 'epoch': 0.7}\n",
						"{'loss': 3.4109, 'grad_norm': 2.261420726776123, 'learning_rate': 1.5294117647058826e-05, 'epoch': 0.7}\n",
						"{'loss': 3.3927, 'grad_norm': 1.9891248941421509, 'learning_rate': 1.5147058823529412e-05, 'epoch': 0.71}\n",
						"{'loss': 3.4579, 'grad_norm': 6.661211967468262, 'learning_rate': 1.5e-05, 'epoch': 0.71}\n",
						"{'loss': 3.4527, 'grad_norm': 1.9650424718856812, 'learning_rate': 1.4852941176470589e-05, 'epoch': 0.71}\n",
						"{'loss': 3.4027, 'grad_norm': 1.9869109392166138, 'learning_rate': 1.4705882352941177e-05, 'epoch': 0.71}\n",
						"{'loss': 3.4555, 'grad_norm': 2.2648839950561523, 'learning_rate': 1.4558823529411767e-05, 'epoch': 0.72}\n",
						"{'loss': 3.4744, 'grad_norm': 1.9674841165542603, 'learning_rate': 1.4411764705882352e-05, 'epoch': 0.72}\n",
						"{'loss': 3.4454, 'grad_norm': 2.089568853378296, 'learning_rate': 1.4264705882352942e-05, 'epoch': 0.72}\n",
						"{'loss': 3.4847, 'grad_norm': 2.3864665031433105, 'learning_rate': 1.411764705882353e-05, 'epoch': 0.73}\n",
						"{'loss': 3.3847, 'grad_norm': 1.7540793418884277, 'learning_rate': 1.3970588235294118e-05, 'epoch': 0.73}\n",
						"{'loss': 3.4445, 'grad_norm': 1.8840205669403076, 'learning_rate': 1.3823529411764708e-05, 'epoch': 0.73}\n",
						"{'loss': 3.5065, 'grad_norm': 1.9329144954681396, 'learning_rate': 1.3676470588235296e-05, 'epoch': 0.73}\n",
						"{'loss': 3.4539, 'grad_norm': 2.4096951484680176, 'learning_rate': 1.3529411764705883e-05, 'epoch': 0.74}\n",
						"{'loss': 3.4255, 'grad_norm': 1.9389814138412476, 'learning_rate': 1.3382352941176471e-05, 'epoch': 0.74}\n",
						"{'loss': 3.4144, 'grad_norm': 2.1374316215515137, 'learning_rate': 1.323529411764706e-05, 'epoch': 0.74}\n",
						"{'loss': 3.5256, 'grad_norm': 1.9268325567245483, 'learning_rate': 1.3088235294117648e-05, 'epoch': 0.75}\n",
						"{'loss': 3.4061, 'grad_norm': 2.4343342781066895, 'learning_rate': 1.2941176470588238e-05, 'epoch': 0.75}\n",
						"{'loss': 3.4154, 'grad_norm': 2.098858118057251, 'learning_rate': 1.2794117647058822e-05, 'epoch': 0.75}\n",
						"{'loss': 3.4466, 'grad_norm': 2.1965627670288086, 'learning_rate': 1.2647058823529412e-05, 'epoch': 0.75}\n",
						"{'loss': 3.451, 'grad_norm': 2.09265398979187, 'learning_rate': 1.25e-05, 'epoch': 0.76}\n",
						"{'loss': 3.4114, 'grad_norm': 2.085102081298828, 'learning_rate': 1.2352941176470589e-05, 'epoch': 0.76}\n",
						"{'loss': 3.3962, 'grad_norm': 2.266202688217163, 'learning_rate': 1.2205882352941177e-05, 'epoch': 0.76}\n",
						"{'loss': 3.5037, 'grad_norm': 2.312541961669922, 'learning_rate': 1.2058823529411765e-05, 'epoch': 0.77}\n",
						"{'loss': 3.4832, 'grad_norm': 1.9919450283050537, 'learning_rate': 1.1911764705882354e-05, 'epoch': 0.77}\n",
						"{'loss': 3.3794, 'grad_norm': 1.6457440853118896, 'learning_rate': 1.1764705882352942e-05, 'epoch': 0.77}\n",
						"{'loss': 3.4052, 'grad_norm': 1.999224066734314, 'learning_rate': 1.161764705882353e-05, 'epoch': 0.77}\n",
						"{'loss': 3.4244, 'grad_norm': 1.7855323553085327, 'learning_rate': 1.1470588235294118e-05, 'epoch': 0.78}\n",
						"{'loss': 3.4511, 'grad_norm': 2.44234299659729, 'learning_rate': 1.1323529411764707e-05, 'epoch': 0.78}\n",
						"{'loss': 3.3268, 'grad_norm': 1.760506510734558, 'learning_rate': 1.1176470588235295e-05, 'epoch': 0.78}\n",
						"{'loss': 3.3916, 'grad_norm': 2.20542573928833, 'learning_rate': 1.1029411764705883e-05, 'epoch': 0.79}\n",
						"{'loss': 3.4158, 'grad_norm': 2.3226230144500732, 'learning_rate': 1.0882352941176471e-05, 'epoch': 0.79}\n",
						"{'loss': 3.3866, 'grad_norm': 2.5205330848693848, 'learning_rate': 1.0735294117647058e-05, 'epoch': 0.79}\n",
						"{'loss': 3.4871, 'grad_norm': 1.9233447313308716, 'learning_rate': 1.0588235294117648e-05, 'epoch': 0.79}\n",
						"{'loss': 3.4403, 'grad_norm': 2.533205270767212, 'learning_rate': 1.0441176470588236e-05, 'epoch': 0.8}\n",
						"{'loss': 3.4157, 'grad_norm': 2.024930953979492, 'learning_rate': 1.0294117647058824e-05, 'epoch': 0.8}\n",
						"{'loss': 3.4319, 'grad_norm': 1.5763590335845947, 'learning_rate': 1.0147058823529413e-05, 'epoch': 0.8}\n",
						"{'loss': 3.3935, 'grad_norm': 1.964692234992981, 'learning_rate': 1e-05, 'epoch': 0.81}\n",
						"{'loss': 3.4992, 'grad_norm': 2.24857234954834, 'learning_rate': 9.852941176470589e-06, 'epoch': 0.81}\n",
						"{'loss': 3.432, 'grad_norm': 2.0346744060516357, 'learning_rate': 9.705882352941177e-06, 'epoch': 0.81}\n",
						"{'loss': 3.4766, 'grad_norm': 2.1646392345428467, 'learning_rate': 9.558823529411764e-06, 'epoch': 0.81}\n",
						"{'loss': 3.3855, 'grad_norm': 2.456775665283203, 'learning_rate': 9.411764705882354e-06, 'epoch': 0.82}\n",
						"{'loss': 3.4575, 'grad_norm': 2.3717260360717773, 'learning_rate': 9.264705882352942e-06, 'epoch': 0.82}\n",
						"{'loss': 3.3325, 'grad_norm': 1.9040597677230835, 'learning_rate': 9.117647058823529e-06, 'epoch': 0.82}\n",
						"{'loss': 3.5294, 'grad_norm': 1.82937490940094, 'learning_rate': 8.970588235294119e-06, 'epoch': 0.83}\n",
						"{'loss': 3.441, 'grad_norm': 2.18440842628479, 'learning_rate': 8.823529411764707e-06, 'epoch': 0.83}\n",
						"{'loss': 3.4127, 'grad_norm': 2.5832033157348633, 'learning_rate': 8.676470588235295e-06, 'epoch': 0.83}\n",
						"{'loss': 3.4304, 'grad_norm': 2.814714193344116, 'learning_rate': 8.529411764705883e-06, 'epoch': 0.83}\n",
						"{'loss': 3.4762, 'grad_norm': 1.7215757369995117, 'learning_rate': 8.38235294117647e-06, 'epoch': 0.84}\n",
						"{'loss': 3.4607, 'grad_norm': 2.1040680408477783, 'learning_rate': 8.23529411764706e-06, 'epoch': 0.84}\n",
						"{'loss': 3.4392, 'grad_norm': 2.1789443492889404, 'learning_rate': 8.088235294117648e-06, 'epoch': 0.84}\n",
						"{'loss': 3.4265, 'grad_norm': 2.2503275871276855, 'learning_rate': 7.941176470588235e-06, 'epoch': 0.85}\n",
						"{'loss': 3.4269, 'grad_norm': 2.3086817264556885, 'learning_rate': 7.794117647058825e-06, 'epoch': 0.85}\n",
						"{'loss': 3.438, 'grad_norm': 2.0454046726226807, 'learning_rate': 7.647058823529413e-06, 'epoch': 0.85}\n",
						"{'loss': 3.4355, 'grad_norm': 2.673366069793701, 'learning_rate': 7.5e-06, 'epoch': 0.85}\n",
						"{'loss': 3.3865, 'grad_norm': 2.295078754425049, 'learning_rate': 7.3529411764705884e-06, 'epoch': 0.86}\n",
						"{'loss': 3.3995, 'grad_norm': 2.498084306716919, 'learning_rate': 7.205882352941176e-06, 'epoch': 0.86}\n",
						"{'loss': 3.4439, 'grad_norm': 2.1519675254821777, 'learning_rate': 7.058823529411765e-06, 'epoch': 0.86}\n",
						"{'loss': 3.4833, 'grad_norm': 2.758179187774658, 'learning_rate': 6.911764705882354e-06, 'epoch': 0.87}\n",
						"{'loss': 3.438, 'grad_norm': 2.0995728969573975, 'learning_rate': 6.7647058823529414e-06, 'epoch': 0.87}\n",
						"{'loss': 3.4687, 'grad_norm': 2.2042295932769775, 'learning_rate': 6.61764705882353e-06, 'epoch': 0.87}\n",
						"{'loss': 3.4102, 'grad_norm': 2.0550103187561035, 'learning_rate': 6.470588235294119e-06, 'epoch': 0.87}\n",
						"{'loss': 3.3397, 'grad_norm': 2.434286594390869, 'learning_rate': 6.323529411764706e-06, 'epoch': 0.88}\n",
						"{'loss': 3.4076, 'grad_norm': 2.037489891052246, 'learning_rate': 6.1764705882352944e-06, 'epoch': 0.88}\n",
						"{'loss': 3.4147, 'grad_norm': 2.106112241744995, 'learning_rate': 6.029411764705883e-06, 'epoch': 0.88}\n",
						"{'loss': 3.4154, 'grad_norm': 2.2801711559295654, 'learning_rate': 5.882352941176471e-06, 'epoch': 0.89}\n",
						"{'loss': 3.3126, 'grad_norm': 2.1603472232818604, 'learning_rate': 5.735294117647059e-06, 'epoch': 0.89}\n",
						"{'loss': 3.4597, 'grad_norm': 2.1909661293029785, 'learning_rate': 5.588235294117647e-06, 'epoch': 0.89}\n",
						"{'loss': 3.4448, 'grad_norm': 2.3795511722564697, 'learning_rate': 5.441176470588236e-06, 'epoch': 0.89}\n",
						"{'loss': 3.3922, 'grad_norm': 3.675705909729004, 'learning_rate': 5.294117647058824e-06, 'epoch': 0.9}\n",
						"{'loss': 3.4135, 'grad_norm': 2.344061851501465, 'learning_rate': 5.147058823529412e-06, 'epoch': 0.9}\n",
						"{'loss': 3.4981, 'grad_norm': 1.7504853010177612, 'learning_rate': 5e-06, 'epoch': 0.9}\n",
						"{'loss': 3.4834, 'grad_norm': 2.27052640914917, 'learning_rate': 4.852941176470589e-06, 'epoch': 0.91}\n",
						"{'loss': 3.4761, 'grad_norm': 1.669222116470337, 'learning_rate': 4.705882352941177e-06, 'epoch': 0.91}\n",
						"{'loss': 3.404, 'grad_norm': 2.031299591064453, 'learning_rate': 4.558823529411764e-06, 'epoch': 0.91}\n",
						"{'loss': 3.4262, 'grad_norm': 2.107121706008911, 'learning_rate': 4.411764705882353e-06, 'epoch': 0.91}\n",
						"{'loss': 3.4083, 'grad_norm': 2.022733688354492, 'learning_rate': 4.264705882352942e-06, 'epoch': 0.92}\n",
						"{'loss': 3.3323, 'grad_norm': 2.3322079181671143, 'learning_rate': 4.11764705882353e-06, 'epoch': 0.92}\n",
						"{'loss': 3.3668, 'grad_norm': 1.9023654460906982, 'learning_rate': 3.970588235294117e-06, 'epoch': 0.92}\n",
						"{'loss': 3.4076, 'grad_norm': 2.472163438796997, 'learning_rate': 3.823529411764706e-06, 'epoch': 0.93}\n",
						"{'loss': 3.4666, 'grad_norm': 1.8291157484054565, 'learning_rate': 3.6764705882352942e-06, 'epoch': 0.93}\n",
						"{'loss': 3.4498, 'grad_norm': 2.4897165298461914, 'learning_rate': 3.5294117647058825e-06, 'epoch': 0.93}\n",
						"{'loss': 3.3475, 'grad_norm': 1.9267257452011108, 'learning_rate': 3.3823529411764707e-06, 'epoch': 0.93}\n",
						"{'loss': 3.4563, 'grad_norm': 1.8990727663040161, 'learning_rate': 3.2352941176470594e-06, 'epoch': 0.94}\n",
						"{'loss': 3.4753, 'grad_norm': 2.480734348297119, 'learning_rate': 3.0882352941176472e-06, 'epoch': 0.94}\n",
						"{'loss': 3.4106, 'grad_norm': 1.9667011499404907, 'learning_rate': 2.9411764705882355e-06, 'epoch': 0.94}\n",
						"{'loss': 3.4299, 'grad_norm': 2.3708419799804688, 'learning_rate': 2.7941176470588237e-06, 'epoch': 0.95}\n",
						"{'loss': 3.3985, 'grad_norm': 2.05196475982666, 'learning_rate': 2.647058823529412e-06, 'epoch': 0.95}\n",
						"{'loss': 3.4086, 'grad_norm': 2.4568347930908203, 'learning_rate': 2.5e-06, 'epoch': 0.95}\n",
						"{'loss': 3.4822, 'grad_norm': 1.6224086284637451, 'learning_rate': 2.3529411764705885e-06, 'epoch': 0.95}\n",
						"{'loss': 3.4115, 'grad_norm': 1.8061456680297852, 'learning_rate': 2.2058823529411767e-06, 'epoch': 0.96}\n",
						"{'loss': 3.4268, 'grad_norm': 2.1176016330718994, 'learning_rate': 2.058823529411765e-06, 'epoch': 0.96}\n",
						"{'loss': 3.3768, 'grad_norm': 1.923326849937439, 'learning_rate': 1.911764705882353e-06, 'epoch': 0.96}\n",
						"{'loss': 3.42, 'grad_norm': 1.8023701906204224, 'learning_rate': 1.7647058823529412e-06, 'epoch': 0.97}\n",
						"{'loss': 3.4965, 'grad_norm': 2.1819779872894287, 'learning_rate': 1.6176470588235297e-06, 'epoch': 0.97}\n",
						"{'loss': 3.475, 'grad_norm': 2.039689779281616, 'learning_rate': 1.4705882352941177e-06, 'epoch': 0.97}\n",
						"{'loss': 3.4413, 'grad_norm': 1.953604817390442, 'learning_rate': 1.323529411764706e-06, 'epoch': 0.97}\n",
						"{'loss': 3.4171, 'grad_norm': 1.8654420375823975, 'learning_rate': 1.1764705882352942e-06, 'epoch': 0.98}\n",
						"{'loss': 3.4196, 'grad_norm': 2.301213026046753, 'learning_rate': 1.0294117647058825e-06, 'epoch': 0.98}\n",
						"{'loss': 3.4389, 'grad_norm': 2.298121213912964, 'learning_rate': 8.823529411764706e-07, 'epoch': 0.98}\n",
						"{'loss': 3.4034, 'grad_norm': 1.7514195442199707, 'learning_rate': 7.352941176470589e-07, 'epoch': 0.99}\n",
						"{'loss': 3.4861, 'grad_norm': 2.8815906047821045, 'learning_rate': 5.882352941176471e-07, 'epoch': 0.99}\n",
						"{'loss': 3.4876, 'grad_norm': 1.838726282119751, 'learning_rate': 4.411764705882353e-07, 'epoch': 0.99}\n",
						"{'loss': 3.3629, 'grad_norm': 2.7451956272125244, 'learning_rate': 2.9411764705882356e-07, 'epoch': 0.99}\n",
						"{'loss': 3.4502, 'grad_norm': 2.112098455429077, 'learning_rate': 1.4705882352941178e-07, 'epoch': 1.0}\n",
						"{'loss': 3.4275, 'grad_norm': 1.994977593421936, 'learning_rate': 0.0, 'epoch': 1.0}\n",
						"{'eval_loss': 3.243082284927368, 'eval_rouge1': 23.1447, 'eval_rouge2': 9.6291, 'eval_rougeL': 18.9967, 'eval_rougeLsum': 21.5909, 'eval_gen_len': 18.9564, 'eval_runtime': 2701.9733, 'eval_samples_per_second': 11.103, 'eval_steps_per_second': 2.776, 'epoch': 1.0}\n"
					]
				},
				{
					"name": "stderr",
					"output_type": "stream",
					"text": [
						"There were missing keys in the checkpoint model loaded: ['encoder.embed_tokens.weight', 'decoder.embed_tokens.weight', 'lm_head.weight'].\n"
					]
				},
				{
					"name": "stdout",
					"output_type": "stream",
					"text": [
						"{'train_runtime': 6976.1134, 'train_samples_per_second': 10.034, 'train_steps_per_second': 2.509, 'train_loss': 3.4348117667061944, 'epoch': 1.0}\n"
					]
				},
				{
					"data": {
						"text/plain": [
							"TrainOutput(global_step=17500, training_loss=3.4348117667061944, metrics={'train_runtime': 6976.1134, 'train_samples_per_second': 10.034, 'train_steps_per_second': 2.509, 'total_flos': 9473926103040000.0, 'train_loss': 3.4348117667061944, 'epoch': 1.0})"
						]
					},
					"execution_count": 29,
					"metadata": {},
					"output_type": "execute_result"
				}
			],
			"source": [
				"#used for t5\n",
				"trainer.train()"
			]
		},
		{
			"cell_type": "code",
			"execution_count": 30,
			"metadata": {
				"execution": {
					"iopub.execute_input": "2024-09-06T00:09:22.355544Z",
					"iopub.status.busy": "2024-09-06T00:09:22.355234Z",
					"iopub.status.idle": "2024-09-06T00:09:28.258357Z",
					"shell.execute_reply": "2024-09-06T00:09:28.257403Z",
					"shell.execute_reply.started": "2024-09-06T00:09:22.355512Z"
				},
				"trusted": true
			},
			"outputs": [
				{
					"data": {
						"application/vnd.jupyter.widget-view+json": {
							"model_id": "663a8fe9867b4dfbad61be551e319f76",
							"version_major": 2,
							"version_minor": 0
						},
						"text/plain": [
							"VBox(children=(Label(value='0.001 MB of 0.001 MB uploaded\\r'), FloatProgress(value=1.0, max=1.0)))"
						]
					},
					"metadata": {},
					"output_type": "display_data"
				},
				{
					"data": {
						"text/html": [
							"<style>\n",
							"    table.wandb td:nth-child(1) { padding: 0 10px; text-align: left ; width: auto;} td:nth-child(2) {text-align: left ; width: 100%}\n",
							"    .wandb-row { display: flex; flex-direction: row; flex-wrap: wrap; justify-content: flex-start; width: 100% }\n",
							"    .wandb-col { display: flex; flex-direction: column; flex-basis: 100%; flex: 1; padding: 10px; }\n",
							"    </style>\n",
							"<div class=\"wandb-row\"><div class=\"wandb-col\"><h3>Run history:</h3><br/><table class=\"wandb\"><tr><td>eval/gen_len</td><td>▁</td></tr><tr><td>eval/loss</td><td>▁</td></tr><tr><td>eval/rouge1</td><td>▁</td></tr><tr><td>eval/rouge2</td><td>▁</td></tr><tr><td>eval/rougeL</td><td>▁</td></tr><tr><td>eval/rougeLsum</td><td>▁</td></tr><tr><td>eval/runtime</td><td>▁</td></tr><tr><td>eval/samples_per_second</td><td>▁</td></tr><tr><td>eval/steps_per_second</td><td>▁</td></tr><tr><td>train/epoch</td><td>▁▁▂▂▂▃▃▃▄▄▅▅▅▆▆▆▇▇██▁▁▂▂▃▃▃▄▄▄▅▅▅▆▆▇▇▇██</td></tr><tr><td>train/global_step</td><td>▁▁▂▂▂▃▃▃▄▄▅▅▅▆▆▆▇▇██▁▁▂▂▃▃▃▄▄▄▅▅▅▆▆▇▇▇██</td></tr><tr><td>train/grad_norm</td><td>▂▂▂▂▂▁▅▁▂▂▃▂▂▂▁▁▃▂▁▁▂▂▂▁▁▂▂▃▂▁▃▁▁▂█▁▁▂▂▂</td></tr><tr><td>train/learning_rate</td><td>▅██▇▇▆▆▆▅▅▅▄▄▃▃▃▂▂▂▁▇██▇▇▆▆▆▅▅▄▄▄▃▃▃▂▂▂▁</td></tr><tr><td>train/loss</td><td>█▅▄▅▅▆▃▄▄▃▃▃▄▂▃▃▂▃▄▄▃▃▃▄▃▃▂▂▂▂▂▄▅▂▃▂▁▃▂▃</td></tr></table><br/></div><div class=\"wandb-col\"><h3>Run summary:</h3><br/><table class=\"wandb\"><tr><td>eval/gen_len</td><td>18.9564</td></tr><tr><td>eval/loss</td><td>3.24308</td></tr><tr><td>eval/rouge1</td><td>23.1447</td></tr><tr><td>eval/rouge2</td><td>9.6291</td></tr><tr><td>eval/rougeL</td><td>18.9967</td></tr><tr><td>eval/rougeLsum</td><td>21.5909</td></tr><tr><td>eval/runtime</td><td>2701.9733</td></tr><tr><td>eval/samples_per_second</td><td>11.103</td></tr><tr><td>eval/steps_per_second</td><td>2.776</td></tr><tr><td>total_flos</td><td>9473926103040000.0</td></tr><tr><td>train/epoch</td><td>1.0</td></tr><tr><td>train/global_step</td><td>17500</td></tr><tr><td>train/grad_norm</td><td>1.99498</td></tr><tr><td>train/learning_rate</td><td>0.0</td></tr><tr><td>train/loss</td><td>3.4275</td></tr><tr><td>train_loss</td><td>3.43481</td></tr><tr><td>train_runtime</td><td>6976.1134</td></tr><tr><td>train_samples_per_second</td><td>10.034</td></tr><tr><td>train_steps_per_second</td><td>2.509</td></tr></table><br/></div></div>"
						],
						"text/plain": [
							"<IPython.core.display.HTML object>"
						]
					},
					"metadata": {},
					"output_type": "display_data"
				},
				{
					"data": {
						"text/html": [
							" View run <strong style=\"color:#cdcd00\">ethereal-dragon-8</strong> at: <a href='https://wandb.ai/ahmed-sakr79-asu/text_summarizer/runs/53h41vg0' target=\"_blank\">https://wandb.ai/ahmed-sakr79-asu/text_summarizer/runs/53h41vg0</a><br/> View project at: <a href='https://wandb.ai/ahmed-sakr79-asu/text_summarizer' target=\"_blank\">https://wandb.ai/ahmed-sakr79-asu/text_summarizer</a><br/>Synced 5 W&B file(s), 0 media file(s), 0 artifact file(s) and 0 other file(s)"
						],
						"text/plain": [
							"<IPython.core.display.HTML object>"
						]
					},
					"metadata": {},
					"output_type": "display_data"
				},
				{
					"data": {
						"text/html": [
							"Find logs at: <code>.\\wandb\\run-20240906_035701-53h41vg0\\logs</code>"
						],
						"text/plain": [
							"<IPython.core.display.HTML object>"
						]
					},
					"metadata": {},
					"output_type": "display_data"
				},
				{
					"data": {
						"text/html": [
							"The new W&B backend becomes opt-out in version 0.18.0; try it out with `wandb.require(\"core\")`! See https://wandb.me/wandb-core for more information."
						],
						"text/plain": [
							"<IPython.core.display.HTML object>"
						]
					},
					"metadata": {},
					"output_type": "display_data"
				}
			],
			"source": [
				"if WANDB_INTEGRATION:\n",
				"    wandb_run.finish()"
			]
		},
		{
			"cell_type": "code",
			"execution_count": 31,
			"metadata": {
				"execution": {
					"iopub.execute_input": "2024-09-06T00:09:28.259685Z",
					"iopub.status.busy": "2024-09-06T00:09:28.259412Z",
					"iopub.status.idle": "2024-09-06T00:09:28.286061Z",
					"shell.execute_reply": "2024-09-06T00:09:28.285196Z",
					"shell.execute_reply.started": "2024-09-06T00:09:28.259653Z"
				},
				"trusted": true
			},
			"outputs": [
				{
					"data": {
						"application/vnd.jupyter.widget-view+json": {
							"model_id": "d330b87b7e804a129857c3110921b27e",
							"version_major": 2,
							"version_minor": 0
						},
						"text/plain": [
							"VBox(children=(HTML(value='<center> <img\\nsrc=https://huggingface.co/front/assets/huggingface_logo-noborder.sv…"
						]
					},
					"metadata": {},
					"output_type": "display_data"
				}
			],
			"source": [
				"from huggingface_hub import notebook_login\n",
				"\n",
				"notebook_login()"
			]
		},
		{
			"cell_type": "code",
			"execution_count": 70,
			"metadata": {
				"execution": {
					"iopub.execute_input": "2024-09-05T16:04:18.324926Z",
					"iopub.status.busy": "2024-09-05T16:04:18.324459Z",
					"iopub.status.idle": "2024-09-05T16:04:40.360707Z",
					"shell.execute_reply": "2024-09-05T16:04:40.359812Z",
					"shell.execute_reply.started": "2024-09-05T16:04:18.324882Z"
				},
				"trusted": true
			},
			"outputs": [
				{
					"name": "stderr",
					"output_type": "stream",
					"text": [
						"Some non-default generation parameters are set in the model config. These should go into a GenerationConfig file (https://huggingface.co/docs/transformers/generation_strategies#save-a-custom-decoding-strategy-with-your-model) instead. This warning will be raised to an exception in v4.41.\n",
						"Non-default generation parameters: {'early_stopping': True, 'num_beams': 4, 'no_repeat_ngram_size': 3, 'forced_bos_token_id': 0, 'forced_eos_token_id': 2}\n"
					]
				},
				{
					"data": {
						"application/vnd.jupyter.widget-view+json": {
							"model_id": "8c443f0a457b49f79eee8fad8a3f97b8",
							"version_major": 2,
							"version_minor": 0
						},
						"text/plain": [
							"model.safetensors:   0%|          | 0.00/558M [00:00<?, ?B/s]"
						]
					},
					"metadata": {},
					"output_type": "display_data"
				},
				{
					"data": {
						"text/plain": [
							"CommitInfo(commit_url='https://huggingface.co/ahmeddsakrr/text_summarizer_bart/commit/bfb75d22e427c4650ac0255307b28704f20eacbe', commit_message='Upload BartForConditionalGeneration', commit_description='', oid='bfb75d22e427c4650ac0255307b28704f20eacbe', pr_url=None, pr_revision=None, pr_num=None)"
						]
					},
					"execution_count": 70,
					"metadata": {},
					"output_type": "execute_result"
				}
			],
			"source": [
				"model.push_to_hub(\"text_summarizer_bart\")"
			]
		},
		{
			"cell_type": "code",
			"execution_count": 67,
			"metadata": {
				"execution": {
					"iopub.execute_input": "2024-09-06T00:22:40.233548Z",
					"iopub.status.busy": "2024-09-06T00:22:40.232651Z",
					"iopub.status.idle": "2024-09-06T00:24:30.526126Z",
					"shell.execute_reply": "2024-09-06T00:24:30.525192Z",
					"shell.execute_reply.started": "2024-09-06T00:22:40.233508Z"
				},
				"trusted": true
			},
			"outputs": [
				{
					"name": "stderr",
					"output_type": "stream",
					"text": [
						"Some non-default generation parameters are set in the model config. These should go into a GenerationConfig file (https://huggingface.co/docs/transformers/generation_strategies#save-a-custom-decoding-strategy-with-your-model) instead. This warning will be raised to an exception in v4.41.\n",
						"Non-default generation parameters: {'max_length': 64, 'num_beams': 8, 'length_penalty': 0.6, 'forced_eos_token_id': 1}\n"
					]
				},
				{
					"data": {
						"application/vnd.jupyter.widget-view+json": {
							"model_id": "1d06bf9e1e9a4b51a13214bb3cc3b27e",
							"version_major": 2,
							"version_minor": 0
						},
						"text/plain": [
							"model.safetensors:   0%|          | 0.00/2.28G [00:00<?, ?B/s]"
						]
					},
					"metadata": {},
					"output_type": "display_data"
				},
				{
					"data": {
						"text/plain": [
							"CommitInfo(commit_url='https://huggingface.co/ahmeddsakrr/text_summarizer_pegasus/commit/7e59cdbaa18832c1c2a4bd77a9a3339cef838f25', commit_message='Upload PegasusForConditionalGeneration', commit_description='', oid='7e59cdbaa18832c1c2a4bd77a9a3339cef838f25', pr_url=None, pr_revision=None, pr_num=None)"
						]
					},
					"execution_count": 67,
					"metadata": {},
					"output_type": "execute_result"
				}
			],
			"source": [
				"model.push_to_hub(\"text_summarizer_pegasus\")"
			]
		},
		{
			"cell_type": "code",
			"execution_count": 32,
			"metadata": {},
			"outputs": [
				{
					"data": {
						"application/vnd.jupyter.widget-view+json": {
							"model_id": "e8fe438a1fc1415e99104d6bba16426d",
							"version_major": 2,
							"version_minor": 0
						},
						"text/plain": [
							"model.safetensors:   0%|          | 0.00/242M [00:00<?, ?B/s]"
						]
					},
					"metadata": {},
					"output_type": "display_data"
				},
				{
					"data": {
						"text/plain": [
							"CommitInfo(commit_url='https://huggingface.co/ahmeddsakrr/text_summarizer_t5/commit/5a59969f4cecc6416a007b01f3910dee7f47a79f', commit_message='Upload T5ForConditionalGeneration', commit_description='', oid='5a59969f4cecc6416a007b01f3910dee7f47a79f', pr_url=None, pr_revision=None, pr_num=None)"
						]
					},
					"execution_count": 32,
					"metadata": {},
					"output_type": "execute_result"
				}
			],
			"source": [
				"model.push_to_hub(\"text_summarizer_t5\")"
			]
		},
		{
			"cell_type": "code",
			"execution_count": 33,
			"metadata": {
				"execution": {
					"iopub.execute_input": "2024-09-06T00:26:04.539636Z",
					"iopub.status.busy": "2024-09-06T00:26:04.539228Z",
					"iopub.status.idle": "2024-09-06T00:27:50.574019Z",
					"shell.execute_reply": "2024-09-06T00:27:50.572990Z",
					"shell.execute_reply.started": "2024-09-06T00:26:04.539599Z"
				},
				"trusted": true
			},
			"outputs": [
				{
					"data": {
						"application/vnd.jupyter.widget-view+json": {
							"model_id": "7eb866302bac435e98cb730bf4db9821",
							"version_major": 2,
							"version_minor": 0
						},
						"text/plain": [
							"config.json:   0%|          | 0.00/1.56k [00:00<?, ?B/s]"
						]
					},
					"metadata": {},
					"output_type": "display_data"
				},
				{
					"name": "stderr",
					"output_type": "stream",
					"text": [
						"c:\\Users\\ahmed\\anaconda3\\envs\\text_summarizer\\Lib\\site-packages\\huggingface_hub\\file_download.py:159: UserWarning: `huggingface_hub` cache-system uses symlinks by default to efficiently store duplicated files but your machine does not support them in E:\\hf_cache\\hub\\models--ahmeddsakrr--text_summarizer_t5. Caching files will still work but in a degraded version that might require more space on your disk. This warning can be disabled by setting the `HF_HUB_DISABLE_SYMLINKS_WARNING` environment variable. For more details, see https://huggingface.co/docs/huggingface_hub/how-to-cache#limitations.\n",
						"To support symlinks on Windows, you either need to activate Developer Mode or to run Python as an administrator. In order to see activate developer mode, see this article: https://docs.microsoft.com/en-us/windows/apps/get-started/enable-your-device-for-development\n",
						"  warnings.warn(message)\n"
					]
				},
				{
					"data": {
						"application/vnd.jupyter.widget-view+json": {
							"model_id": "f014580a38c04ac080977d36c44de859",
							"version_major": 2,
							"version_minor": 0
						},
						"text/plain": [
							"model.safetensors:   0%|          | 0.00/242M [00:00<?, ?B/s]"
						]
					},
					"metadata": {},
					"output_type": "display_data"
				},
				{
					"data": {
						"application/vnd.jupyter.widget-view+json": {
							"model_id": "f96fe5449a4c4c50ac23284bcd585b2a",
							"version_major": 2,
							"version_minor": 0
						},
						"text/plain": [
							"generation_config.json:   0%|          | 0.00/118 [00:00<?, ?B/s]"
						]
					},
					"metadata": {},
					"output_type": "display_data"
				}
			],
			"source": [
				"from transformers import pipeline\n",
				"# pipeline = pipeline(\"text2text-generation\", model=\"ahmeddsakrr/text_summarizer_bart\", tokenizer=\"facebook/bart-base\", device=\"cuda:0\", temperature=1)\n",
				"pipeline = pipeline(\"text2text-generation\", model=\"ahmeddsakrr/text_summarizer_t5\", tokenizer=\"t5-small\", device=\"cuda:0\", temperature=1)"
			]
		},
		{
			"cell_type": "code",
			"execution_count": 34,
			"metadata": {
				"execution": {
					"iopub.execute_input": "2024-09-06T00:27:54.716539Z",
					"iopub.status.busy": "2024-09-06T00:27:54.715883Z",
					"iopub.status.idle": "2024-09-06T00:27:54.722707Z",
					"shell.execute_reply": "2024-09-06T00:27:54.721785Z",
					"shell.execute_reply.started": "2024-09-06T00:27:54.716502Z"
				},
				"trusted": true
			},
			"outputs": [],
			"source": [
				"article = \"\"\"ANKARA: Egyptian President Abdel Fattah al-Sisi arrived in Ankara on Wednesday for talks with Turkish counterpart Tayyip Erdogan, the first such presidential visit in 12 years, amid a warming of long-frozen relations between the regional powers.\n",
				"\n",
				"Erdogan had travelled to Cairo in February, his first trip to Egypt since 2012, taking a major step toward rebuilding ties that were severely strained for a decade.\n",
				"\n",
				"Relations between Ankara and Cairo collapsed in 2013 after Egypt's then-army chief Sisi led the ouster of the Muslim Brotherhood's Mohamed Mursi, a Turkish ally who had become Egypt's first democratically elected president the year before. Mursi visited Turkey as president in 2012.\n",
				"\n",
				"\"Turkey-Egypt relations will be reviewed in all their aspects, and possible joint steps in the coming period to further develop cooperation will be discussed,\" the Turkish presidency's communications office said late on Tuesday.\n",
				"\n",
				"\"There will be an exchange of views on current regional and global issues, especially the Israeli attacks on Gaza and the occupied Palestinian territories\".\n",
				"\n",
				"Erdogan met Sisi at Ankara airport before they left together in Erdogan's motorcade for the presidential palace for a welcome ceremony. They will also chair the first meeting of the Turkey-Egypt High-Level Strategic Cooperation Council.\n",
				"\n",
				"A joint press conference is scheduled for 5pm (1400 GMT).\n",
				"\n",
				"In a statement, Sisi said his visit - and that of Erdogan in February - showed Ankara and Cairo's common will to launch a new phase of friendship and cooperation.\n",
				"\n",
				"Ties between the two countries began thawing in 2020 when Ankara launched a diplomatic charm offensive to ease tensions with its estranged regional rivals, including the United Arab Emirates, Saudi Arabia and Egypt.\n",
				"\n",
				"Turkey and Egypt mutually reappointed ambassadors last year, and Ankara has said it would provide Cairo with armed drones. Erdogan said in Cairo that the countries wanted to boost annual trade by $5 billion to $15 billion in the short term.\n",
				"\n",
				"Turkey's state-owned Anadolu news agency said the two countries would sign around 20 agreements during Sisi's visit to cooperate on energy, defence, tourism, health, culture and education. It said deepening cooperation on renewable energy and liquefied natural gas (LNG) was also planned.\n",
				"\n",
				"Turkey, which has condemned Israel for its war against Hamas, has sent thousands of tonnes of aid to Egypt for Palestinians and praised Cairo's humanitarian efforts and role as negotiator in Gaza truce talks.\"\"\""
			]
		},
		{
			"cell_type": "code",
			"execution_count": 35,
			"metadata": {
				"execution": {
					"iopub.execute_input": "2024-09-06T00:27:57.695780Z",
					"iopub.status.busy": "2024-09-06T00:27:57.694869Z",
					"iopub.status.idle": "2024-09-06T00:27:58.647480Z",
					"shell.execute_reply": "2024-09-06T00:27:58.646485Z",
					"shell.execute_reply.started": "2024-09-06T00:27:57.695716Z"
				},
				"trusted": true
			},
			"outputs": [
				{
					"name": "stderr",
					"output_type": "stream",
					"text": [
						"Token indices sequence length is longer than the specified maximum sequence length for this model (564 > 512). Running this sequence through the model will result in indexing errors\n",
						"c:\\Users\\ahmed\\anaconda3\\envs\\text_summarizer\\Lib\\site-packages\\transformers\\generation\\utils.py:1168: UserWarning: Using the model-agnostic default `max_length` (=20) to control the generation length. We recommend setting `max_new_tokens` to control the maximum length of the generation.\n",
						"  warnings.warn(\n"
					]
				},
				{
					"data": {
						"text/plain": [
							"[{'generated_text': 'Erdogan and Erdogan will meet in Ankara for talks . Turkey and Egypt have re'}]"
						]
					},
					"execution_count": 35,
					"metadata": {},
					"output_type": "execute_result"
				}
			],
			"source": [
				"pipeline(article)"
			]
		},
		{
			"cell_type": "code",
			"execution_count": 36,
			"metadata": {
				"execution": {
					"iopub.execute_input": "2024-09-06T00:28:13.077722Z",
					"iopub.status.busy": "2024-09-06T00:28:13.077013Z",
					"iopub.status.idle": "2024-09-06T00:28:13.082017Z",
					"shell.execute_reply": "2024-09-06T00:28:13.080990Z",
					"shell.execute_reply.started": "2024-09-06T00:28:13.077679Z"
				},
				"trusted": true
			},
			"outputs": [],
			"source": [
				"prompt_2 = \"\"\"That may help explain why Musk was willing to close X’s office in Brazil rather than comply with a judge’s orders to remove some accounts for sharing alleged misinformation and hate speech. Once Musk shuttered the office in August, X no longer had a legal representative in the country, which was part of a Supreme Court judge’s justification for banning the app last week.\"\"\""
			]
		},
		{
			"cell_type": "code",
			"execution_count": 37,
			"metadata": {
				"execution": {
					"iopub.execute_input": "2024-09-06T00:28:14.369061Z",
					"iopub.status.busy": "2024-09-06T00:28:14.368645Z",
					"iopub.status.idle": "2024-09-06T00:28:14.883846Z",
					"shell.execute_reply": "2024-09-06T00:28:14.882903Z",
					"shell.execute_reply.started": "2024-09-06T00:28:14.369023Z"
				},
				"trusted": true
			},
			"outputs": [
				{
					"data": {
						"text/plain": [
							"[{'generated_text': 'Musk shuttered X’s office in Brazil in August . X no longer'}]"
						]
					},
					"execution_count": 37,
					"metadata": {},
					"output_type": "execute_result"
				}
			],
			"source": [
				"pipeline(prompt_2)"
			]
		},
		{
			"cell_type": "code",
			"execution_count": null,
			"metadata": {},
			"outputs": [],
			"source": []
		}
	],
	"metadata": {
		"kaggle": {
			"accelerator": "gpu",
			"dataSources": [],
			"dockerImageVersionId": 30762,
			"isGpuEnabled": true,
			"isInternetEnabled": true,
			"language": "python",
			"sourceType": "notebook"
		},
		"kernelspec": {
			"display_name": "Python 3",
			"language": "python",
			"name": "python3"
		},
		"language_info": {
			"codemirror_mode": {
				"name": "ipython",
				"version": 3
			},
			"file_extension": ".py",
			"mimetype": "text/x-python",
			"name": "python",
			"nbconvert_exporter": "python",
			"pygments_lexer": "ipython3",
			"version": "3.12.4"
		}
	},
	"nbformat": 4,
	"nbformat_minor": 4
}
