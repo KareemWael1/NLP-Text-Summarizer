{
 "metadata": {
  "kernelspec": {
   "language": "python",
   "display_name": "Python 3",
   "name": "python3"
  },
  "language_info": {
   "name": "python",
   "version": "3.7.12",
   "mimetype": "text/x-python",
   "codemirror_mode": {
    "name": "ipython",
    "version": 3
   },
   "pygments_lexer": "ipython3",
   "nbconvert_exporter": "python",
   "file_extension": ".py"
  },
  "kaggle": {
   "accelerator": "gpu",
   "dataSources": [
    {
     "sourceId": 2734496,
     "sourceType": "datasetVersion",
     "datasetId": 1654566
    },
    {
     "sourceId": 1246668,
     "sourceType": "datasetVersion",
     "datasetId": 715814
    }
   ],
   "dockerImageVersionId": 30198,
   "isInternetEnabled": true,
   "language": "python",
   "sourceType": "notebook",
   "isGpuEnabled": true
  }
 },
 "nbformat_minor": 4,
 "nbformat": 4,
 "cells": [
  {
   "cell_type": "code",
   "source": [
    "!pip install rouge\n",
    "!pip install rouge-score\n",
    "\n",
    "import numpy as np\n",
    "import pandas as pd\n",
    "import re\n",
    "import string\n",
    "import csv\n",
    "from sklearn.model_selection import train_test_split\n",
    "import tensorflow as tf\n",
    "from tensorflow import keras\n",
    "from keras.preprocessing.text import Tokenizer\n",
    "from keras.preprocessing.sequence import pad_sequences\n",
    "from tensorflow.keras.layers import LSTM, Dense, Input, Embedding, Concatenate, TimeDistributed, Bidirectional, GRU\n",
    "from tensorflow.keras.models import Model\n",
    "from tensorflow.keras.callbacks import EarlyStopping\n",
    "from keras.utils.vis_utils import plot_model\n",
    "from rouge import Rouge\n",
    "from rouge_score import rouge_scorer"
   ],
   "metadata": {
    "_uuid": "759312bc-e19e-492a-b3ca-c110d3b6b413",
    "_cell_guid": "354da293-b4a7-4866-bcb7-363d943d4b17",
    "collapsed": false,
    "execution": {
     "iopub.status.busy": "2024-09-05T09:46:04.538511Z",
     "iopub.execute_input": "2024-09-05T09:46:04.539491Z",
     "iopub.status.idle": "2024-09-05T09:46:26.227897Z",
     "shell.execute_reply.started": "2024-09-05T09:46:04.539440Z",
     "shell.execute_reply": "2024-09-05T09:46:26.226846Z"
    },
    "trusted": true
   },
   "execution_count": 29,
   "outputs": [
    {
     "name": "stdout",
     "text": "Requirement already satisfied: rouge in /opt/conda/lib/python3.7/site-packages (1.0.1)\nRequirement already satisfied: six in /opt/conda/lib/python3.7/site-packages (from rouge) (1.16.0)\n\u001B[33mWARNING: Running pip as the 'root' user can result in broken permissions and conflicting behaviour with the system package manager. It is recommended to use a virtual environment instead: https://pip.pypa.io/warnings/venv\u001B[0m\u001B[33m\n\u001B[0mRequirement already satisfied: rouge-score in /opt/conda/lib/python3.7/site-packages (0.1.2)\nRequirement already satisfied: six>=1.14.0 in /opt/conda/lib/python3.7/site-packages (from rouge-score) (1.16.0)\nRequirement already satisfied: nltk in /opt/conda/lib/python3.7/site-packages (from rouge-score) (3.2.4)\nRequirement already satisfied: absl-py in /opt/conda/lib/python3.7/site-packages (from rouge-score) (1.0.0)\nRequirement already satisfied: numpy in /opt/conda/lib/python3.7/site-packages (from rouge-score) (1.21.6)\n\u001B[33mWARNING: Running pip as the 'root' user can result in broken permissions and conflicting behaviour with the system package manager. It is recommended to use a virtual environment instead: https://pip.pypa.io/warnings/venv\u001B[0m\u001B[33m\n\u001B[0m",
     "output_type": "stream"
    }
   ]
  },
  {
   "cell_type": "markdown",
   "source": [
    "# Preprocessing"
   ],
   "metadata": {
    "_uuid": "cab41196-6e98-4986-bf7a-99a18aa55c09",
    "_cell_guid": "6c196dc5-f66d-4e53-8cad-0b222e9c1095",
    "trusted": true
   }
  },
  {
   "cell_type": "code",
   "source": [
    "train_data = pd.read_csv('../input/newspaper-text-summarization-cnn-dailymail/cnn_dailymail/train.csv')\n",
    "val_data = pd.read_csv('../input/newspaper-text-summarization-cnn-dailymail/cnn_dailymail/train.csv')\n",
    "test_data = pd.read_csv('../input/newspaper-text-summarization-cnn-dailymail/cnn_dailymail/test.csv')\n",
    "\n",
    "train_data.head()"
   ],
   "metadata": {
    "_uuid": "1f01cd78-a907-4696-892a-c4eceaa6daeb",
    "_cell_guid": "de6e5895-4eaa-4ec1-bdc1-7c5ed54b75fb",
    "collapsed": false,
    "execution": {
     "iopub.status.busy": "2024-09-05T09:46:26.229785Z",
     "iopub.execute_input": "2024-09-05T09:46:26.230138Z",
     "iopub.status.idle": "2024-09-05T09:46:54.050047Z",
     "shell.execute_reply.started": "2024-09-05T09:46:26.230103Z",
     "shell.execute_reply": "2024-09-05T09:46:54.049210Z"
    },
    "trusted": true
   },
   "execution_count": 30,
   "outputs": [
    {
     "execution_count": 30,
     "output_type": "execute_result",
     "data": {
      "text/plain": "                                         id  \\\n0  0001d1afc246a7964130f43ae940af6bc6c57f01   \n1  0002095e55fcbd3a2f366d9bf92a95433dc305ef   \n2  00027e965c8264c35cc1bc55556db388da82b07f   \n3  0002c17436637c4fe1837c935c04de47adb18e9a   \n4  0003ad6ef0c37534f80b55b4235108024b407f0b   \n\n                                             article  \\\n0  By . Associated Press . PUBLISHED: . 14:11 EST...   \n1  (CNN) -- Ralph Mata was an internal affairs li...   \n2  A drunk driver who killed a young woman in a h...   \n3  (CNN) -- With a breezy sweep of his pen Presid...   \n4  Fleetwood are the only team still to have a 10...   \n\n                                          highlights  \n0  Bishop John Folda, of North Dakota, is taking ...  \n1  Criminal complaint: Cop used his role to help ...  \n2  Craig Eccleston-Todd, 27, had drunk at least t...  \n3  Nina dos Santos says Europe must be ready to a...  \n4  Fleetwood top of League One after 2-0 win at S...  ",
      "text/html": "<div>\n<style scoped>\n    .dataframe tbody tr th:only-of-type {\n        vertical-align: middle;\n    }\n\n    .dataframe tbody tr th {\n        vertical-align: top;\n    }\n\n    .dataframe thead th {\n        text-align: right;\n    }\n</style>\n<table border=\"1\" class=\"dataframe\">\n  <thead>\n    <tr style=\"text-align: right;\">\n      <th></th>\n      <th>id</th>\n      <th>article</th>\n      <th>highlights</th>\n    </tr>\n  </thead>\n  <tbody>\n    <tr>\n      <th>0</th>\n      <td>0001d1afc246a7964130f43ae940af6bc6c57f01</td>\n      <td>By . Associated Press . PUBLISHED: . 14:11 EST...</td>\n      <td>Bishop John Folda, of North Dakota, is taking ...</td>\n    </tr>\n    <tr>\n      <th>1</th>\n      <td>0002095e55fcbd3a2f366d9bf92a95433dc305ef</td>\n      <td>(CNN) -- Ralph Mata was an internal affairs li...</td>\n      <td>Criminal complaint: Cop used his role to help ...</td>\n    </tr>\n    <tr>\n      <th>2</th>\n      <td>00027e965c8264c35cc1bc55556db388da82b07f</td>\n      <td>A drunk driver who killed a young woman in a h...</td>\n      <td>Craig Eccleston-Todd, 27, had drunk at least t...</td>\n    </tr>\n    <tr>\n      <th>3</th>\n      <td>0002c17436637c4fe1837c935c04de47adb18e9a</td>\n      <td>(CNN) -- With a breezy sweep of his pen Presid...</td>\n      <td>Nina dos Santos says Europe must be ready to a...</td>\n    </tr>\n    <tr>\n      <th>4</th>\n      <td>0003ad6ef0c37534f80b55b4235108024b407f0b</td>\n      <td>Fleetwood are the only team still to have a 10...</td>\n      <td>Fleetwood top of League One after 2-0 win at S...</td>\n    </tr>\n  </tbody>\n</table>\n</div>"
     },
     "metadata": {}
    }
   ]
  },
  {
   "cell_type": "code",
   "source": [
    "train_data = train_data.drop(['id'], axis=1)\n",
    "train_data = train_data.reset_index(drop=True)\n",
    "val_data = val_data.drop(['id'], axis=1)\n",
    "val_data = val_data.reset_index(drop=True)\n",
    "test_data = test_data.drop(['id'], axis=1)\n",
    "test_data = test_data.reset_index(drop=True)"
   ],
   "metadata": {
    "_uuid": "d88f9262-14d3-405f-9c5a-29f2177e76ec",
    "_cell_guid": "5770af92-ff0d-4f98-b07f-e84a188cea68",
    "collapsed": false,
    "execution": {
     "iopub.status.busy": "2024-09-05T09:46:54.051332Z",
     "iopub.execute_input": "2024-09-05T09:46:54.052278Z",
     "iopub.status.idle": "2024-09-05T09:46:54.160312Z",
     "shell.execute_reply.started": "2024-09-05T09:46:54.052236Z",
     "shell.execute_reply": "2024-09-05T09:46:54.159581Z"
    },
    "trusted": true
   },
   "execution_count": 31,
   "outputs": []
  },
  {
   "cell_type": "code",
   "source": [
    "contractions = { \n",
    "    \"ain't\": \"am not\",\n",
    "    \"aren't\": \"are not\",\n",
    "    \"can't\": \"cannot\",\n",
    "    \"can't've\": \"cannot have\",\n",
    "    \"'cause\": \"because\",\n",
    "    \"could've\": \"could have\",\n",
    "    \"couldn't\": \"could not\",\n",
    "    \"couldn't've\": \"could not have\",\n",
    "    \"didn't\": \"did not\",\n",
    "    \"doesn't\": \"does not\",\n",
    "    \"don't\": \"do not\",\n",
    "    \"hadn't\": \"had not\",\n",
    "    \"hadn't've\": \"had not have\",\n",
    "    \"hasn't\": \"has not\",\n",
    "    \"haven't\": \"have not\",\n",
    "    \"he'd\": \"he would\",\n",
    "    \"he'd've\": \"he would have\",\n",
    "    \"he'll\": \"he will\",\n",
    "    \"he's\": \"he is\",\n",
    "    \"how'd\": \"how did\",\n",
    "    \"how'll\": \"how will\",\n",
    "    \"how's\": \"how is\",\n",
    "    \"i'd\": \"i would\",\n",
    "    \"i'll\": \"i will\",\n",
    "    \"i'm\": \"i am\",\n",
    "    \"i've\": \"i have\",\n",
    "    \"isn't\": \"is not\",\n",
    "    \"it'd\": \"it would\",\n",
    "    \"it'll\": \"it will\",\n",
    "    \"it's\": \"it is\",\n",
    "    \"let's\": \"let us\",\n",
    "    \"ma'am\": \"madam\",\n",
    "    \"mayn't\": \"may not\",\n",
    "    \"might've\": \"might have\",\n",
    "    \"mightn't\": \"might not\",\n",
    "    \"must've\": \"must have\",\n",
    "    \"mustn't\": \"must not\",\n",
    "    \"needn't\": \"need not\",\n",
    "    \"oughtn't\": \"ought not\",\n",
    "    \"shan't\": \"shall not\",\n",
    "    \"sha'n't\": \"shall not\",\n",
    "    \"she'd\": \"she would\",\n",
    "    \"she'll\": \"she will\",\n",
    "    \"she's\": \"she is\",\n",
    "    \"should've\": \"should have\",\n",
    "    \"shouldn't\": \"should not\",\n",
    "    \"that'd\": \"that would\",\n",
    "    \"that's\": \"that is\",\n",
    "    \"there'd\": \"there had\",\n",
    "    \"there's\": \"there is\",\n",
    "    \"they'd\": \"they would\",\n",
    "    \"they'll\": \"they will\",\n",
    "    \"they're\": \"they are\",\n",
    "    \"they've\": \"they have\",\n",
    "    \"wasn't\": \"was not\",\n",
    "    \"we'd\": \"we would\",\n",
    "    \"we'll\": \"we will\",\n",
    "    \"we're\": \"we are\",\n",
    "    \"we've\": \"we have\",\n",
    "    \"weren't\": \"were not\",\n",
    "    \"what'll\": \"what will\",\n",
    "    \"what're\": \"what are\",\n",
    "    \"what's\": \"what is\",\n",
    "    \"what've\": \"what have\",\n",
    "    \"where'd\": \"where did\",\n",
    "    \"where's\": \"where is\",\n",
    "    \"who'll\": \"who will\",\n",
    "    \"who's\": \"who is\",\n",
    "    \"won't\": \"will not\",\n",
    "    \"wouldn't\": \"would not\",\n",
    "    \"you'd\": \"you would\",\n",
    "    \"you'll\": \"you will\",\n",
    "    \"you're\": \"you are\"\n",
    "}"
   ],
   "metadata": {
    "_uuid": "f00d722d-e4a4-43be-ae9a-bf4190bc5a75",
    "_cell_guid": "c05ac199-af00-4813-9bc9-bdd09a0b4ace",
    "collapsed": false,
    "execution": {
     "iopub.status.busy": "2024-09-05T09:46:54.162489Z",
     "iopub.execute_input": "2024-09-05T09:46:54.163101Z",
     "iopub.status.idle": "2024-09-05T09:46:54.175158Z",
     "shell.execute_reply.started": "2024-09-05T09:46:54.163060Z",
     "shell.execute_reply": "2024-09-05T09:46:54.174270Z"
    },
    "trusted": true
   },
   "execution_count": 32,
   "outputs": []
  },
  {
   "cell_type": "code",
   "source": [
    "def clean_text(text, remove_stopwords=True):\n",
    "    text = text.lower()\n",
    "    text = text.split()\n",
    "    tmp = []\n",
    "    for word in text:\n",
    "        if word in contractions:\n",
    "            tmp.append(contractions[word])\n",
    "        else:\n",
    "            tmp.append(word)\n",
    "    text = ' '.join(tmp)\n",
    "    \n",
    "    text = re.sub(r'https?:\\/\\/.*[\\r\\n]*', '', text, flags=re.MULTILINE)\n",
    "    text = re.sub(r'\\<a href', ' ', text)\n",
    "    text = re.sub(r'&amp;', '', text) \n",
    "    text = re.sub(r'[_\"\\-;%()|+&=*%.,!?:#$@\\[\\]/]', ' ', text)\n",
    "    text = re.sub(r'<br />', ' ', text)\n",
    "    text = re.sub(r'\\'', ' ', text)\n",
    "    \n",
    "    if remove_stopwords:\n",
    "        text = text.split()\n",
    "        stops = set(stopwords.words('english'))\n",
    "        text = [w for w in text if w not in stops]\n",
    "        text = ' '.join(text)\n",
    "        \n",
    "    return text"
   ],
   "metadata": {
    "_uuid": "a5191f3e-ce21-4893-ad9f-eb08c2e9b2b2",
    "_cell_guid": "17d0f88c-a64d-40b2-92e6-3f70e10bf720",
    "collapsed": false,
    "execution": {
     "iopub.status.busy": "2024-09-05T09:46:54.176308Z",
     "iopub.execute_input": "2024-09-05T09:46:54.176711Z",
     "iopub.status.idle": "2024-09-05T09:46:54.189873Z",
     "shell.execute_reply.started": "2024-09-05T09:46:54.176673Z",
     "shell.execute_reply": "2024-09-05T09:46:54.189002Z"
    },
    "trusted": true
   },
   "execution_count": 33,
   "outputs": []
  },
  {
   "cell_type": "code",
   "source": [
    "import nltk\n",
    "nltk.download('stopwords')\n",
    "from nltk.corpus import stopwords\n",
    "\n",
    "clean_summaries = []\n",
    "for summary in train_data.highlights:\n",
    "    clean_summaries.append(clean_text(summary, remove_stopwords=False))\n",
    "print('Cleaning Summaries Complete')\n",
    "    \n",
    "clean_texts = []\n",
    "for text in train_data.article:\n",
    "    clean_texts.append(clean_text(text))\n",
    "print('Cleaning Texts Complete')\n",
    "del train_data"
   ],
   "metadata": {
    "_uuid": "a01dbc3a-cc1c-41d7-9848-7f6ff8f74ced",
    "_cell_guid": "e4908abd-737d-4a30-9914-4cb9180b1f4d",
    "collapsed": false,
    "execution": {
     "iopub.status.busy": "2024-09-05T09:46:54.190924Z",
     "iopub.execute_input": "2024-09-05T09:46:54.191217Z",
     "iopub.status.idle": "2024-09-05T09:50:24.271201Z",
     "shell.execute_reply.started": "2024-09-05T09:46:54.191190Z",
     "shell.execute_reply": "2024-09-05T09:50:24.270318Z"
    },
    "trusted": true
   },
   "execution_count": 34,
   "outputs": [
    {
     "name": "stdout",
     "text": "[nltk_data] Downloading package stopwords to /usr/share/nltk_data...\n[nltk_data]   Package stopwords is already up-to-date!\nCleaning Summaries Complete\nCleaning Texts Complete\n",
     "output_type": "stream"
    }
   ]
  },
  {
   "cell_type": "code",
   "source": [
    "clean_df = pd.DataFrame()\n",
    "clean_df['text'] = clean_texts[:40000]\n",
    "clean_df['summary'] = clean_summaries[:40000]\n",
    "clean_df['summary'].replace('', np.nan, inplace=True)\n",
    "clean_df.dropna(axis=0, inplace=True)\n",
    "\n",
    "clean_df['summary'] = clean_df['summary'].apply(lambda x: '<sostok>' + ' ' + x + ' ' + '<eostok>')\n",
    "del clean_texts\n",
    "del clean_summaries"
   ],
   "metadata": {
    "_uuid": "c04efa35-f731-4597-8cc5-7c9ab9c65769",
    "_cell_guid": "b69643e2-aa56-4ef9-960a-b58622199d9a",
    "collapsed": false,
    "execution": {
     "iopub.status.busy": "2024-09-05T09:50:24.272466Z",
     "iopub.execute_input": "2024-09-05T09:50:24.272795Z",
     "iopub.status.idle": "2024-09-05T09:50:24.419075Z",
     "shell.execute_reply.started": "2024-09-05T09:50:24.272765Z",
     "shell.execute_reply": "2024-09-05T09:50:24.418260Z"
    },
    "trusted": true
   },
   "execution_count": 35,
   "outputs": []
  },
  {
   "cell_type": "markdown",
   "source": [
    "# Tokenizing Text And Summary Data"
   ],
   "metadata": {
    "_uuid": "331aad08-2efb-4069-8f3e-638c52d05d40",
    "_cell_guid": "87d19bae-08c0-467e-99c9-7e12b8ee7717",
    "trusted": true
   }
  },
  {
   "cell_type": "code",
   "source": [
    "train_x, val_x, train_y, val_y = train_test_split(clean_df['text'], clean_df['summary'], test_size=0.2, random_state=0)\n",
    "del clean_df"
   ],
   "metadata": {
    "execution": {
     "iopub.status.busy": "2024-09-05T09:50:24.420360Z",
     "iopub.execute_input": "2024-09-05T09:50:24.420680Z",
     "iopub.status.idle": "2024-09-05T09:50:24.435360Z",
     "shell.execute_reply.started": "2024-09-05T09:50:24.420651Z",
     "shell.execute_reply": "2024-09-05T09:50:24.434536Z"
    },
    "trusted": true
   },
   "execution_count": 36,
   "outputs": []
  },
  {
   "cell_type": "code",
   "source": [
    "t_tokenizer = Tokenizer()\n",
    "t_tokenizer.fit_on_texts(list(train_x))\n",
    "\n",
    "thresh = 4\n",
    "count = 0\n",
    "total_count = 0\n",
    "\n",
    "for key, value in t_tokenizer.word_counts.items():\n",
    "    total_count += 1\n",
    "    if value < thresh:\n",
    "        count += 1"
   ],
   "metadata": {
    "execution": {
     "iopub.status.busy": "2024-09-05T09:50:24.436596Z",
     "iopub.execute_input": "2024-09-05T09:50:24.437195Z",
     "iopub.status.idle": "2024-09-05T09:50:40.974003Z",
     "shell.execute_reply.started": "2024-09-05T09:50:24.437156Z",
     "shell.execute_reply": "2024-09-05T09:50:40.973056Z"
    },
    "trusted": true
   },
   "execution_count": 37,
   "outputs": []
  },
  {
   "cell_type": "code",
   "execution_count": null,
   "outputs": [],
   "source": [
    "t_max_features = total_count - count"
   ],
   "metadata": {
    "collapsed": false
   }
  },
  {
   "cell_type": "code",
   "source": [
    "s_tokenizer = Tokenizer()\n",
    "s_tokenizer.fit_on_texts(list(train_y))\n",
    "\n",
    "thresh = 6\n",
    "count = 0\n",
    "total_count = 0\n",
    "\n",
    "for key, value in s_tokenizer.word_counts.items():\n",
    "    total_count += 1\n",
    "    if value < thresh:\n",
    "        count += 1"
   ],
   "metadata": {
    "execution": {
     "iopub.status.busy": "2024-09-05T09:50:40.984225Z",
     "iopub.execute_input": "2024-09-05T09:50:40.984553Z",
     "iopub.status.idle": "2024-09-05T09:50:42.966568Z",
     "shell.execute_reply.started": "2024-09-05T09:50:40.984525Z",
     "shell.execute_reply": "2024-09-05T09:50:42.965778Z"
    },
    "trusted": true
   },
   "execution_count": 39,
   "outputs": []
  },
  {
   "cell_type": "code",
   "execution_count": null,
   "outputs": [],
   "source": [
    "s_max_features = total_count-count"
   ],
   "metadata": {
    "collapsed": false
   }
  },
  {
   "cell_type": "code",
   "source": [
    "maxlen_text = 800\n",
    "maxlen_summ = 150"
   ],
   "metadata": {
    "_uuid": "f118030d-4e56-42ac-8e07-25259682e521",
    "_cell_guid": "55be46d8-bad4-4353-b304-697c27873b95",
    "collapsed": false,
    "execution": {
     "iopub.status.busy": "2024-09-05T09:50:42.974467Z",
     "iopub.execute_input": "2024-09-05T09:50:42.974768Z",
     "iopub.status.idle": "2024-09-05T09:50:42.983243Z",
     "shell.execute_reply.started": "2024-09-05T09:50:42.974741Z",
     "shell.execute_reply": "2024-09-05T09:50:42.982527Z"
    },
    "trusted": true
   },
   "execution_count": 41,
   "outputs": []
  },
  {
   "cell_type": "code",
   "source": [
    "t_tokenizer = Tokenizer(num_words=t_max_features)\n",
    "t_tokenizer.fit_on_texts(list(train_x))\n",
    "train_x = t_tokenizer.texts_to_sequences(train_x)\n",
    "val_x = t_tokenizer.texts_to_sequences(val_x)\n",
    "\n",
    "train_x = pad_sequences(train_x, maxlen=maxlen_text, padding='post')\n",
    "val_x = pad_sequences(val_x, maxlen=maxlen_text, padding='post')"
   ],
   "metadata": {
    "_uuid": "ca1ced9f-99c9-4adf-93c5-2014065e402b",
    "_cell_guid": "c6e0639a-1d9f-4111-bdc3-37b634c465f9",
    "collapsed": false,
    "execution": {
     "iopub.status.busy": "2024-09-05T09:50:42.984289Z",
     "iopub.execute_input": "2024-09-05T09:50:42.984620Z",
     "iopub.status.idle": "2024-09-05T09:51:18.461147Z",
     "shell.execute_reply.started": "2024-09-05T09:50:42.984593Z",
     "shell.execute_reply": "2024-09-05T09:51:18.460417Z"
    },
    "trusted": true
   },
   "execution_count": 42,
   "outputs": []
  },
  {
   "cell_type": "code",
   "source": [
    "s_tokenizer = Tokenizer(num_words=s_max_features)\n",
    "s_tokenizer.fit_on_texts(list(train_y))\n",
    "train_y = s_tokenizer.texts_to_sequences(train_y)\n",
    "val_y = s_tokenizer.texts_to_sequences(val_y)\n",
    "\n",
    "train_y = pad_sequences(train_y, maxlen=maxlen_summ, padding='post')\n",
    "val_y = pad_sequences(val_y, maxlen=maxlen_summ, padding='post')"
   ],
   "metadata": {
    "_uuid": "128e5cb3-ab67-439d-a170-eab7b17e365d",
    "_cell_guid": "47cc7233-e0cb-41b1-9c00-e9da1874dc3c",
    "collapsed": false,
    "execution": {
     "iopub.status.busy": "2024-09-05T09:51:18.465679Z",
     "iopub.execute_input": "2024-09-05T09:51:18.465990Z",
     "iopub.status.idle": "2024-09-05T09:51:22.709390Z",
     "shell.execute_reply.started": "2024-09-05T09:51:18.465961Z",
     "shell.execute_reply": "2024-09-05T09:51:22.708661Z"
    },
    "trusted": true
   },
   "execution_count": 43,
   "outputs": []
  },
  {
   "cell_type": "code",
   "source": [
    "print(\"Training Sequence\", train_x.shape)\n",
    "print('Target Values Shape', train_y.shape)\n",
    "print('Test Sequence', val_x.shape)\n",
    "print('Target Test Shape', val_y.shape)"
   ],
   "metadata": {
    "_uuid": "33f72b41-9cf0-449b-b91a-b25f98a82b92",
    "_cell_guid": "844064ed-fb75-4893-9e6b-8e6bf40b8a76",
    "collapsed": false,
    "execution": {
     "iopub.status.busy": "2024-09-05T09:51:22.710691Z",
     "iopub.execute_input": "2024-09-05T09:51:22.711494Z",
     "iopub.status.idle": "2024-09-05T09:51:22.716944Z",
     "shell.execute_reply.started": "2024-09-05T09:51:22.711453Z",
     "shell.execute_reply": "2024-09-05T09:51:22.716090Z"
    },
    "trusted": true
   },
   "execution_count": 44,
   "outputs": [
    {
     "name": "stdout",
     "text": "Training Sequence (32000, 800)\nTarget Values Shape (32000, 150)\nTest Sequence (8000, 800)\nTarget Test Shape (8000, 150)\n",
     "output_type": "stream"
    }
   ]
  },
  {
   "cell_type": "markdown",
   "source": [
    "# Pretrained Embedding"
   ],
   "metadata": {}
  },
  {
   "cell_type": "code",
   "source": [
    "embeding_index = {}\n",
    "embed_dim = 100\n",
    "with open('/kaggle/input/glove6b100dtxt/glove.6B.100d.txt') as f:\n",
    "    for line in f:\n",
    "        values = line.split()\n",
    "        word = values[0]\n",
    "        coefs = np.asarray(values[1:], dtype='float32')\n",
    "        embeding_index[word] = coefs"
   ],
   "metadata": {
    "execution": {
     "iopub.status.busy": "2024-09-05T09:51:22.718105Z",
     "iopub.execute_input": "2024-09-05T09:51:22.718882Z",
     "iopub.status.idle": "2024-09-05T09:51:33.833233Z",
     "shell.execute_reply.started": "2024-09-05T09:51:22.718844Z",
     "shell.execute_reply": "2024-09-05T09:51:33.832499Z"
    },
    "trusted": true
   },
   "execution_count": 45,
   "outputs": []
  },
  {
   "cell_type": "code",
   "source": [
    "t_embed = np.zeros((t_max_features, embed_dim))\n",
    "for word, i in t_tokenizer.word_index.items():\n",
    "    vec = embeding_index.get(word)\n",
    "    if i < t_max_features and vec is not None:\n",
    "        t_embed[i] = vec"
   ],
   "metadata": {
    "execution": {
     "iopub.status.busy": "2024-09-05T09:51:33.834294Z",
     "iopub.execute_input": "2024-09-05T09:51:33.834631Z",
     "iopub.status.idle": "2024-09-05T09:51:34.089662Z",
     "shell.execute_reply.started": "2024-09-05T09:51:33.834600Z",
     "shell.execute_reply": "2024-09-05T09:51:34.088760Z"
    },
    "trusted": true
   },
   "execution_count": 46,
   "outputs": []
  },
  {
   "cell_type": "code",
   "source": [
    "s_embed = np.zeros((s_max_features, embed_dim))\n",
    "for word, i in s_tokenizer.word_index.items():\n",
    "    vec = embeding_index.get(word)\n",
    "    if i < s_max_features and vec is not None:\n",
    "        s_embed[i] = vec"
   ],
   "metadata": {
    "execution": {
     "iopub.status.busy": "2024-09-05T09:51:34.090923Z",
     "iopub.execute_input": "2024-09-05T09:51:34.091754Z",
     "iopub.status.idle": "2024-09-05T09:51:34.159799Z",
     "shell.execute_reply.started": "2024-09-05T09:51:34.091713Z",
     "shell.execute_reply": "2024-09-05T09:51:34.159076Z"
    },
    "trusted": true
   },
   "execution_count": 47,
   "outputs": []
  },
  {
   "cell_type": "code",
   "source": [
    "del embeding_index"
   ],
   "metadata": {
    "execution": {
     "iopub.status.busy": "2024-09-05T09:51:34.160821Z",
     "iopub.execute_input": "2024-09-05T09:51:34.161131Z",
     "iopub.status.idle": "2024-09-05T09:51:34.289599Z",
     "shell.execute_reply.started": "2024-09-05T09:51:34.161102Z",
     "shell.execute_reply": "2024-09-05T09:51:34.288665Z"
    },
    "trusted": true
   },
   "execution_count": 48,
   "outputs": []
  },
  {
   "cell_type": "markdown",
   "source": [
    "# Model Architecture"
   ],
   "metadata": {
    "_uuid": "b14a774c-7f88-4295-8a77-54ce44b5f495",
    "_cell_guid": "a8ed3f5d-f1b8-444c-81f9-aade517501ca",
    "trusted": true
   }
  },
  {
   "cell_type": "code",
   "source": [
    "latent_dim = 128\n",
    "# Encoder\n",
    "enc_input = Input(shape=(maxlen_text, ))\n",
    "enc_embed = Embedding(t_max_features, embed_dim, input_length=maxlen_text, weights=[t_embed], trainable=False)(enc_input)\n",
    "enc_lstm = Bidirectional(LSTM(latent_dim, return_state=True))\n",
    "enc_output, enc_fh, enc_fc, enc_bh, enc_bc = enc_lstm(enc_embed)\n",
    "enc_h = Concatenate(axis=-1, name='enc_h')([enc_fh, enc_bh])\n",
    "enc_c = Concatenate(axis=-1, name='enc_c')([enc_fc, enc_bc])\n",
    "#Decoder\n",
    "dec_input = Input(shape=(None, ))\n",
    "dec_embed = Embedding(s_max_features, embed_dim, weights=[s_embed], trainable=False)(dec_input)\n",
    "dec_lstm = LSTM(latent_dim*2, return_sequences=True, return_state=True, dropout=0.3, recurrent_dropout=0.2)\n",
    "dec_outputs, _, _ = dec_lstm(dec_embed, initial_state=[enc_h, enc_c])\n",
    "\n",
    "dec_dense = TimeDistributed(Dense(s_max_features, activation='softmax'))\n",
    "dec_output = dec_dense(dec_outputs)\n",
    "\n",
    "model = Model([enc_input, dec_input], dec_output)\n",
    "model.summary()\n",
    "\n",
    "plot_model(\n",
    "    model,\n",
    "    to_file='./seq2seq_encoder_decoder.png',\n",
    "    show_shapes=True,\n",
    "    show_layer_names=True,\n",
    "    rankdir='TB',\n",
    "    expand_nested=False,\n",
    "    dpi=96)"
   ],
   "metadata": {
    "_uuid": "8a652996-c534-45fd-a61b-95eeb3f6674a",
    "_cell_guid": "45ea7085-3ec5-4bc6-a8ad-644051b87647",
    "collapsed": false,
    "execution": {
     "iopub.status.busy": "2024-09-05T09:51:34.300798Z",
     "iopub.execute_input": "2024-09-05T09:51:34.301434Z",
     "iopub.status.idle": "2024-09-05T09:51:35.503786Z",
     "shell.execute_reply.started": "2024-09-05T09:51:34.301397Z",
     "shell.execute_reply": "2024-09-05T09:51:35.502660Z"
    },
    "trusted": true
   },
   "execution_count": 49,
   "outputs": [
    {
     "name": "stdout",
     "text": "Model: \"model_1\"\n__________________________________________________________________________________________________\nLayer (type)                    Output Shape         Param #     Connected to                     \n==================================================================================================\ninput_3 (InputLayer)            [(None, 800)]        0                                            \n__________________________________________________________________________________________________\nembedding_2 (Embedding)         (None, 800, 100)     7780900     input_3[0][0]                    \n__________________________________________________________________________________________________\ninput_4 (InputLayer)            [(None, None)]       0                                            \n__________________________________________________________________________________________________\nbidirectional_1 (Bidirectional) [(None, 256), (None, 234496      embedding_2[0][0]                \n__________________________________________________________________________________________________\nembedding_3 (Embedding)         (None, None, 100)    1649900     input_4[0][0]                    \n__________________________________________________________________________________________________\nenc_h (Concatenate)             (None, 256)          0           bidirectional_1[0][1]            \n                                                                 bidirectional_1[0][3]            \n__________________________________________________________________________________________________\nenc_c (Concatenate)             (None, 256)          0           bidirectional_1[0][2]            \n                                                                 bidirectional_1[0][4]            \n__________________________________________________________________________________________________\nlstm_3 (LSTM)                   [(None, None, 256),  365568      embedding_3[0][0]                \n                                                                 enc_h[0][0]                      \n                                                                 enc_c[0][0]                      \n__________________________________________________________________________________________________\ntime_distributed_1 (TimeDistrib (None, None, 16499)  4240243     lstm_3[0][0]                     \n==================================================================================================\nTotal params: 14,271,107\nTrainable params: 4,840,307\nNon-trainable params: 9,430,800\n__________________________________________________________________________________________________\n",
     "output_type": "stream"
    },
    {
     "execution_count": 49,
     "output_type": "execute_result",
     "data": {
      "image/png": "[encoded data removed]",
      "text/plain": "<IPython.core.display.Image object>"
     },
     "metadata": {}
    }
   ]
  },
  {
   "cell_type": "code",
   "source": [
    "class RougeMetric(tf.keras.metrics.Metric):\n",
    "    def __init__(self, name='rouge', **kwargs):\n",
    "        super(RougeMetric, self).__init__(name=name, **kwargs)\n",
    "        self.rouge1 = self.add_weight(name='rouge1', initializer='zeros')\n",
    "        self.rouge2 = self.add_weight(name='rouge2', initializer='zeros')\n",
    "        self.rougeL = self.add_weight(name='rougeL', initializer='zeros')\n",
    "        self.count = self.add_weight(name='count', initializer='zeros')\n",
    "        self.scorer = rouge_scorer.RougeScorer(['rouge1', 'rouge2', 'rougeL'], use_stemmer=True)\n",
    "\n",
    "    def update_state(self, y_true, y_pred, sample_weight=None):\n",
    "        # Convert from one-hot to indices\n",
    "        y_true = tf.argmax(y_true, axis=-1)\n",
    "        y_pred = tf.argmax(y_pred, axis=-1)\n",
    "\n",
    "        # Use tf.py_function to apply Python functions inside the TensorFlow graph\n",
    "        scores = tf.py_function(self.compute_rouge, [y_true, y_pred], [tf.float32, tf.float32, tf.float32])\n",
    "\n",
    "        # Update the metric states with the computed scores\n",
    "        self.rouge1.assign_add(scores[0])\n",
    "        self.rouge2.assign_add(scores[1])\n",
    "        self.rougeL.assign_add(scores[2])\n",
    "        self.count.assign_add(1)\n",
    "\n",
    "    def compute_rouge(self, y_true, y_pred):\n",
    "        # Convert Tensor to NumPy arrays (for use in the Python `rouge_scorer`)\n",
    "        y_true_np = y_true.numpy()\n",
    "        y_pred_np = y_pred.numpy()\n",
    "\n",
    "        rouge1_total = 0.0\n",
    "        rouge2_total = 0.0\n",
    "        rougeL_total = 0.0\n",
    "        num_samples = len(y_true_np)\n",
    "\n",
    "        for i in range(num_samples):\n",
    "            true_sentence = ' '.join(map(str, y_true_np[i]))\n",
    "            pred_sentence = ' '.join(map(str, y_pred_np[i]))\n",
    "\n",
    "            # Compute ROUGE scores\n",
    "            scores = self.scorer.score(true_sentence, pred_sentence)\n",
    "            rouge1_total += scores['rouge1'].fmeasure\n",
    "            rouge2_total += scores['rouge2'].fmeasure\n",
    "            rougeL_total += scores['rougeL'].fmeasure\n",
    "\n",
    "        # Return the average ROUGE scores\n",
    "        return rouge1_total / num_samples, rouge2_total / num_samples, rougeL_total / num_samples\n",
    "\n",
    "    def result(self):\n",
    "        return {\n",
    "            'rouge1': self.rouge1 / self.count,\n",
    "            'rouge2': self.rouge2 / self.count,\n",
    "            'rougeL': self.rougeL / self.count\n",
    "        }\n",
    "\n",
    "    def reset_state(self):\n",
    "        self.rouge1.assign(0)\n",
    "        self.rouge2.assign(0)\n",
    "        self.rougeL.assign(0)\n",
    "        self.count.assign(0)\n",
    "\n",
    "model.compile(optimizer='rmsprop', loss='sparse_categorical_crossentropy', metrics=[RougeMetric()])"
   ],
   "metadata": {
    "execution": {
     "iopub.status.busy": "2024-09-05T11:49:02.195739Z",
     "iopub.execute_input": "2024-09-05T11:49:02.196661Z",
     "iopub.status.idle": "2024-09-05T11:49:38.614776Z",
     "shell.execute_reply.started": "2024-09-05T11:49:02.196619Z",
     "shell.execute_reply": "2024-09-05T11:49:38.613947Z"
    },
    "trusted": true
   },
   "execution_count": 60,
   "outputs": []
  },
  {
   "cell_type": "code",
   "source": [
    "early_stop = keras.callbacks.EarlyStopping(monitor='val_loss', mode='min', verbose=1, patience=2, restore_best_weights=True)\n",
    "model.fit([train_x, train_y[:, :-1]], train_y.reshape(train_y.shape[0], train_y.shape[1], 1)[:, 1:], epochs=50, callbacks=[early_stop], batch_size=128, verbose=2, validation_data=([val_x, val_y[:, :-1]], val_y.reshape(val_y.shape[0], val_y.shape[1], 1)[:, 1:]))"
   ],
   "metadata": {
    "_uuid": "b3c8f55f-20fd-4d67-87c2-111980a84e80",
    "_cell_guid": "5d8c4765-e059-4120-9fe4-75ab589b2c8e",
    "collapsed": false,
    "execution": {
     "iopub.status.busy": "2024-09-05T11:49:38.616397Z",
     "iopub.execute_input": "2024-09-05T11:49:38.616814Z",
     "iopub.status.idle": "2024-09-05T15:38:51.044591Z",
     "shell.execute_reply.started": "2024-09-05T11:49:38.616778Z",
     "shell.execute_reply": "2024-09-05T15:38:51.043331Z"
    },
    "trusted": true
   },
   "execution_count": 61,
   "outputs": [
    {
     "name": "stdout",
     "text": "Epoch 1/50\n250/250 - 580s - loss: 1.9345 - rouge1: 0.6810 - rouge2: 0.6775 - rougeL: 0.6810 - val_loss: 1.8947 - val_rouge1: 0.6825 - val_rouge2: 0.6795 - val_rougeL: 0.6825\nEpoch 2/50\n250/250 - 574s - loss: 1.8950 - rouge1: 0.6808 - rouge2: 0.6774 - rougeL: 0.6808 - val_loss: 1.8685 - val_rouge1: 0.6824 - val_rouge2: 0.6795 - val_rougeL: 0.6824\nEpoch 3/50\n250/250 - 572s - loss: 1.8664 - rouge1: 0.6807 - rouge2: 0.6774 - rougeL: 0.6807 - val_loss: 1.8508 - val_rouge1: 0.6823 - val_rouge2: 0.6794 - val_rougeL: 0.6823\nEpoch 4/50\n250/250 - 571s - loss: 1.8430 - rouge1: 0.6806 - rouge2: 0.6774 - rougeL: 0.6806 - val_loss: 1.8354 - val_rouge1: 0.6823 - val_rouge2: 0.6795 - val_rougeL: 0.6823\nEpoch 5/50\n250/250 - 570s - loss: 1.8234 - rouge1: 0.6805 - rouge2: 0.6774 - rougeL: 0.6805 - val_loss: 1.8254 - val_rouge1: 0.6822 - val_rouge2: 0.6794 - val_rougeL: 0.6822\nEpoch 6/50\n250/250 - 570s - loss: 1.8062 - rouge1: 0.6805 - rouge2: 0.6774 - rougeL: 0.6805 - val_loss: 1.8160 - val_rouge1: 0.6822 - val_rouge2: 0.6794 - val_rougeL: 0.6822\nEpoch 7/50\n250/250 - 571s - loss: 1.7908 - rouge1: 0.6804 - rouge2: 0.6774 - rougeL: 0.6804 - val_loss: 1.8058 - val_rouge1: 0.6822 - val_rouge2: 0.6794 - val_rougeL: 0.6822\nEpoch 8/50\n250/250 - 570s - loss: 1.7771 - rouge1: 0.6804 - rouge2: 0.6774 - rougeL: 0.6804 - val_loss: 1.7985 - val_rouge1: 0.6822 - val_rouge2: 0.6794 - val_rougeL: 0.6822\nEpoch 9/50\n250/250 - 572s - loss: 1.7653 - rouge1: 0.6804 - rouge2: 0.6774 - rougeL: 0.6804 - val_loss: 1.7923 - val_rouge1: 0.6822 - val_rouge2: 0.6794 - val_rougeL: 0.6822\nEpoch 10/50\n250/250 - 574s - loss: 1.7543 - rouge1: 0.6803 - rouge2: 0.6774 - rougeL: 0.6803 - val_loss: 1.7886 - val_rouge1: 0.6821 - val_rouge2: 0.6794 - val_rougeL: 0.6821\nEpoch 11/50\n250/250 - 575s - loss: 1.7442 - rouge1: 0.6803 - rouge2: 0.6774 - rougeL: 0.6803 - val_loss: 1.7846 - val_rouge1: 0.6821 - val_rouge2: 0.6794 - val_rougeL: 0.6821\nEpoch 12/50\n250/250 - 573s - loss: 1.7354 - rouge1: 0.6803 - rouge2: 0.6774 - rougeL: 0.6803 - val_loss: 1.7806 - val_rouge1: 0.6821 - val_rouge2: 0.6794 - val_rougeL: 0.6821\nEpoch 13/50\n250/250 - 573s - loss: 1.7274 - rouge1: 0.6803 - rouge2: 0.6774 - rougeL: 0.6803 - val_loss: 1.7773 - val_rouge1: 0.6821 - val_rouge2: 0.6794 - val_rougeL: 0.6821\nEpoch 14/50\n250/250 - 570s - loss: 1.7198 - rouge1: 0.6802 - rouge2: 0.6774 - rougeL: 0.6802 - val_loss: 1.7746 - val_rouge1: 0.6821 - val_rouge2: 0.6794 - val_rougeL: 0.6821\nEpoch 15/50\n250/250 - 569s - loss: 1.7129 - rouge1: 0.6802 - rouge2: 0.6774 - rougeL: 0.6802 - val_loss: 1.7745 - val_rouge1: 0.6821 - val_rouge2: 0.6794 - val_rougeL: 0.6821\nEpoch 16/50\n250/250 - 571s - loss: 1.7064 - rouge1: 0.6802 - rouge2: 0.6774 - rougeL: 0.6802 - val_loss: 1.7732 - val_rouge1: 0.6820 - val_rouge2: 0.6794 - val_rougeL: 0.6820\nEpoch 17/50\n250/250 - 574s - loss: 1.7004 - rouge1: 0.6802 - rouge2: 0.6774 - rougeL: 0.6802 - val_loss: 1.7698 - val_rouge1: 0.6820 - val_rouge2: 0.6794 - val_rougeL: 0.6820\nEpoch 18/50\n250/250 - 574s - loss: 1.6950 - rouge1: 0.6802 - rouge2: 0.6774 - rougeL: 0.6802 - val_loss: 1.7693 - val_rouge1: 0.6820 - val_rouge2: 0.6794 - val_rougeL: 0.6820\nEpoch 19/50\n250/250 - 575s - loss: 1.6902 - rouge1: 0.6802 - rouge2: 0.6774 - rougeL: 0.6802 - val_loss: 1.7692 - val_rouge1: 0.6821 - val_rouge2: 0.6794 - val_rougeL: 0.6821\nEpoch 20/50\n250/250 - 575s - loss: 1.6851 - rouge1: 0.6802 - rouge2: 0.6773 - rougeL: 0.6802 - val_loss: 1.7676 - val_rouge1: 0.6821 - val_rouge2: 0.6794 - val_rougeL: 0.6821\nEpoch 21/50\n250/250 - 574s - loss: 1.6803 - rouge1: 0.6802 - rouge2: 0.6773 - rougeL: 0.6802 - val_loss: 1.7683 - val_rouge1: 0.6820 - val_rouge2: 0.6794 - val_rougeL: 0.6820\nEpoch 22/50\n250/250 - 578s - loss: 1.6754 - rouge1: 0.6802 - rouge2: 0.6773 - rougeL: 0.6802 - val_loss: 1.7636 - val_rouge1: 0.6820 - val_rouge2: 0.6794 - val_rougeL: 0.6820\nEpoch 23/50\n250/250 - 573s - loss: 1.6711 - rouge1: 0.6801 - rouge2: 0.6774 - rougeL: 0.6801 - val_loss: 1.7644 - val_rouge1: 0.6820 - val_rouge2: 0.6794 - val_rougeL: 0.6820\nEpoch 24/50\n250/250 - 574s - loss: 1.6674 - rouge1: 0.6801 - rouge2: 0.6773 - rougeL: 0.6801 - val_loss: 1.7648 - val_rouge1: 0.6820 - val_rouge2: 0.6794 - val_rougeL: 0.6820\nRestoring model weights from the end of the best epoch.\nEpoch 00024: early stopping\n",
     "output_type": "stream"
    },
    {
     "execution_count": 61,
     "output_type": "execute_result",
     "data": {
      "text/plain": "<keras.callbacks.History at 0x7faca7451790>"
     },
     "metadata": {}
    }
   ]
  },
  {
   "cell_type": "markdown",
   "source": [
    "# Testing"
   ],
   "metadata": {
    "_uuid": "d668c65c-7022-4884-b9aa-0d2a3708fbde",
    "_cell_guid": "e5c1d9a7-3572-400f-9571-09c67bb88b6b",
    "trusted": true
   }
  },
  {
   "cell_type": "code",
   "source": [
    "enc_model = Model(inputs=enc_input, outputs=[enc_h, enc_c])\n",
    "\n",
    "dec_init_state_h = Input(shape=(latent_dim*2, ))\n",
    "dec_init_state_c = Input(shape=(latent_dim*2, ))\n",
    "\n",
    "dec_out, dec_h, dec_c = dec_lstm(dec_embed, initial_state=[dec_init_state_h, dec_init_state_c])\n",
    "dec_final = dec_dense(dec_out)\n",
    "\n",
    "dec_model = Model([dec_input]+[dec_init_state_h, dec_init_state_c], [dec_final]+[dec_h, dec_c])"
   ],
   "metadata": {
    "_uuid": "089e3dce-4433-4d7b-bbc8-a507640345d6",
    "_cell_guid": "5dc9b6e7-aebd-4f8d-affa-895cfa85797c",
    "collapsed": false,
    "execution": {
     "iopub.status.busy": "2024-09-05T15:39:57.773176Z",
     "iopub.execute_input": "2024-09-05T15:39:57.773614Z",
     "iopub.status.idle": "2024-09-05T15:39:57.892664Z",
     "shell.execute_reply.started": "2024-09-05T15:39:57.773577Z",
     "shell.execute_reply": "2024-09-05T15:39:57.891935Z"
    },
    "trusted": true
   },
   "execution_count": 62,
   "outputs": []
  },
  {
   "cell_type": "code",
   "source": [
    "def generate_summary(input_seq):\n",
    "    h, c = enc_model.predict(input_seq)\n",
    "    \n",
    "    next_token = np.zeros((1, 1))\n",
    "    next_token[0, 0] = s_tokenizer.word_index['sostok']\n",
    "    output_seq = ''\n",
    "    \n",
    "    stop = False\n",
    "    count = 0\n",
    "    \n",
    "    while not stop:\n",
    "        if count > 100:\n",
    "            break\n",
    "        decoder_out, state_h, state_c = dec_model.predict([next_token]+[h, c])\n",
    "        token_idx = np.argmax(decoder_out[0, -1, :])\n",
    "        \n",
    "        if token_idx == s_tokenizer.word_index['eostok']:\n",
    "            stop = True\n",
    "        elif token_idx > 0 and token_idx != s_tokenizer.word_index['sostok']:\n",
    "            token = s_tokenizer.index_word[token_idx]\n",
    "            output_seq = output_seq + ' ' + token\n",
    "        \n",
    "        next_token = np.zeros((1, 1))\n",
    "        next_token[0, 0] = token_idx\n",
    "        h, c = state_h, state_c\n",
    "        count += 1\n",
    "        \n",
    "    return output_seq"
   ],
   "metadata": {
    "_uuid": "89a14f36-0948-4970-b640-68b99380d3c4",
    "_cell_guid": "d3e1c276-aa68-477c-a535-438027aa50f0",
    "collapsed": false,
    "execution": {
     "iopub.status.busy": "2024-09-05T15:39:57.893990Z",
     "iopub.execute_input": "2024-09-05T15:39:57.894294Z",
     "iopub.status.idle": "2024-09-05T15:39:57.903178Z",
     "shell.execute_reply.started": "2024-09-05T15:39:57.894265Z",
     "shell.execute_reply": "2024-09-05T15:39:57.902417Z"
    },
    "trusted": true
   },
   "execution_count": 63,
   "outputs": []
  },
  {
   "cell_type": "code",
   "source": [
    "test_inputs = [clean_text(sent) for sent in test_data.article]\n",
    "test_inputs = t_tokenizer.texts_to_sequences(list(test_inputs))\n",
    "test_inputs = pad_sequences(test_inputs, maxlen=maxlen_text, padding='post')"
   ],
   "metadata": {
    "_uuid": "4718c311-f0da-4c72-9fb4-0ad2f5cd866a",
    "_cell_guid": "f60a4ffe-5637-4a30-b2f4-45c068fe5393",
    "collapsed": false,
    "execution": {
     "iopub.status.busy": "2024-09-05T15:39:57.904441Z",
     "iopub.execute_input": "2024-09-05T15:39:57.904832Z",
     "iopub.status.idle": "2024-09-05T15:40:11.020078Z",
     "shell.execute_reply.started": "2024-09-05T15:39:57.904794Z",
     "shell.execute_reply": "2024-09-05T15:40:11.019324Z"
    },
    "trusted": true
   },
   "execution_count": 64,
   "outputs": []
  },
  {
   "cell_type": "code",
   "source": [
    "hyps = []\n",
    "with open('./result2.csv', 'w') as f:\n",
    "    writer = csv.writer(f)\n",
    "    writer.writerow(['Article', 'Original Summary', 'Model Output'])\n",
    "    for i in range(len(test_inputs) - 1):\n",
    "        our_summ = generate_summary(test_inputs[i].reshape(1, maxlen_text))\n",
    "        hyps.append(our_summ)\n",
    "        writer.writerow([test_data.article[i], test_data.highlights[i], our_summ])"
   ],
   "metadata": {
    "_uuid": "b4820a8c-ef74-4b08-8eae-d89f487fa4bf",
    "_cell_guid": "a904fd33-301e-4e3f-9410-9eb6858413cb",
    "collapsed": false,
    "execution": {
     "iopub.status.busy": "2024-09-05T15:40:11.022222Z",
     "iopub.execute_input": "2024-09-05T15:40:11.022642Z",
     "iopub.status.idle": "2024-09-05T16:22:40.187938Z",
     "shell.execute_reply.started": "2024-09-05T15:40:11.022604Z",
     "shell.execute_reply": "2024-09-05T16:22:40.186605Z"
    },
    "trusted": true
   },
   "execution_count": null,
   "outputs": []
  },
  {
   "cell_type": "markdown",
   "source": [
    "# ROUGE score"
   ],
   "metadata": {}
  },
  {
   "cell_type": "code",
   "source": [
    "rouge = Rouge()\n",
    "rouge.get_scores(hyps, test_data.highlights, avg=True, ignore_empty=True)"
   ],
   "metadata": {
    "execution": {
     "iopub.status.busy": "2024-09-05T16:23:44.032519Z",
     "iopub.execute_input": "2024-09-05T16:23:44.032923Z",
     "iopub.status.idle": "2024-09-05T16:23:47.872815Z",
     "shell.execute_reply.started": "2024-09-05T16:23:44.032890Z",
     "shell.execute_reply": "2024-09-05T16:23:47.871976Z"
    },
    "trusted": true
   },
   "execution_count": 66,
   "outputs": [
    {
     "execution_count": 66,
     "output_type": "execute_result",
     "data": {
      "text/plain": "{'rouge-1': {'r': 0.40261050457871027,\n  'p': 0.4775706044391582,\n  'f': 0.44343059373290962},\n 'rouge-2': {'r': 0.3690056052346893,\n  'p': 0.33125980726519811,\n  'f': 0.317965523780110973},\n 'rouge-l': {'r': 0.29584795718759787,\n  'p': 0.3616769763767375,\n  'f': 0.33431536990901444}}"
     },
     "metadata": {}
    }
   ]
  }
 ]
}
